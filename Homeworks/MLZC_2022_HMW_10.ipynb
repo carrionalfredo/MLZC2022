{
 "cells": [
  {
   "cell_type": "markdown",
   "id": "3336117d",
   "metadata": {},
   "source": [
    "## Homework 10 "
   ]
  },
  {
   "cell_type": "markdown",
   "id": "1e8a5538",
   "metadata": {},
   "source": [
    "#### Building the model "
   ]
  },
  {
   "cell_type": "code",
   "execution_count": 1,
   "id": "ade925b4",
   "metadata": {},
   "outputs": [
    {
     "name": "stderr",
     "output_type": "stream",
     "text": [
      "#1 [internal] load build definition from Dockerfile\n",
      "#1 sha256:7615ba0559e63009004b56917cf335503ebe41c24025b0b9f5de2595ac87f381\n",
      "#1 transferring dockerfile: 32B done\n",
      "#1 DONE 0.0s\n",
      "\n",
      "#2 [internal] load .dockerignore\n",
      "#2 sha256:19a7ffb08868ac88b76282a87cfd164a43db5c6615da852b86997d51d4412a97\n",
      "#2 transferring context: 2B done\n",
      "#2 DONE 0.0s\n",
      "\n",
      "#3 [internal] load metadata for docker.io/svizor/zoomcamp-model:3.9.12-slim\n",
      "#3 sha256:6faf31e8764c50c3c410067d53ed2ce2fdd92f64122b1156114fff652d286c85\n",
      "#3 DONE 0.0s\n",
      "\n",
      "#4 [1/5] FROM docker.io/svizor/zoomcamp-model:3.9.12-slim\n",
      "#4 sha256:1f36ffbaefbdf338e5fa88524f56f26d17e244b60e5e6eb69d6334a4c011bbf4\n",
      "#4 DONE 0.0s\n",
      "\n",
      "#6 [internal] load build context\n",
      "#6 sha256:145b92eb4f06eeb04498e013967649a82de5f7720c5e16a2fdb4675b0e982d3c\n",
      "#6 transferring context: 17.02kB 0.0s done\n",
      "#6 DONE 0.0s\n",
      "\n",
      "#8 [4/5] RUN pipenv install --system --deploy\n",
      "#8 sha256:c3333bc1d32eac4a9348950bde03d434d72975835da8c571929d0783c0e52e31\n",
      "#8 CACHED\n",
      "\n",
      "#7 [3/5] COPY [Pipfile, Pipfile.lock, ./]\n",
      "#7 sha256:1bfa309f0693917aed81e030c0b08e8e97933f079baac9389f162d0bde1de82e\n",
      "#7 CACHED\n",
      "\n",
      "#5 [2/5] RUN pip install pipenv\n",
      "#5 sha256:8e2756aecb9539bdb832fd49c304330eecfc94752ae74cfeb0f52c00e6cca27a\n",
      "#5 CACHED\n",
      "\n",
      "#9 [5/5] COPY [q6_predict.py, ./]\n",
      "#9 sha256:4cb6cee5717e32d57f300972e248b4433482444c90ee6650a7972213c84f1175\n",
      "#9 CACHED\n",
      "\n",
      "#10 exporting to image\n",
      "#10 sha256:e8c613e07b0b7ff33893b694f7759a10d42e180f2b4dc349fb57dc6b71dcab00\n",
      "#10 exporting layers done\n",
      "#10 writing image sha256:ff934ed6599ef0b07b02a007780e69a2dd2c903740f1b5c8dd02e27093a30375 done\n",
      "#10 naming to docker.io/library/zoomcamp-model:v001 done\n",
      "#10 DONE 0.0s\n"
     ]
    }
   ],
   "source": [
    "!docker build -t zoomcamp-model:v001 ."
   ]
  },
  {
   "cell_type": "markdown",
   "id": "60c91bed",
   "metadata": {},
   "source": [
    "### Question 1"
   ]
  },
  {
   "cell_type": "code",
   "execution_count": 2,
   "id": "793c72ec",
   "metadata": {},
   "outputs": [
    {
     "name": "stderr",
     "output_type": "stream",
     "text": [
      "the input device is not a TTY.  If you are using mintty, try prefixing the command with 'winpty'\n"
     ]
    }
   ],
   "source": [
    "!docker run -it --rm -p 9696:9696 zoomcamp-model:v001"
   ]
  },
  {
   "cell_type": "code",
   "execution_count": 5,
   "id": "039336d4",
   "metadata": {},
   "outputs": [
    {
     "name": "stdout",
     "output_type": "stream",
     "text": [
      "{'get_card': True, 'get_card_probability': 0.7692649226628628}\n"
     ]
    }
   ],
   "source": [
    "!python q6_test.py"
   ]
  },
  {
   "cell_type": "markdown",
   "id": "4fc765d7",
   "metadata": {},
   "source": [
    "### Question 2"
   ]
  },
  {
   "cell_type": "code",
   "execution_count": 6,
   "id": "b078529e",
   "metadata": {},
   "outputs": [
    {
     "name": "stdout",
     "output_type": "stream",
     "text": [
      "kind version 0.17.0\n"
     ]
    }
   ],
   "source": [
    "!kind --version"
   ]
  },
  {
   "cell_type": "markdown",
   "id": "cc113103",
   "metadata": {},
   "source": [
    "####  Creating a Cluster"
   ]
  },
  {
   "cell_type": "code",
   "execution_count": 7,
   "id": "e50f4510",
   "metadata": {},
   "outputs": [
    {
     "name": "stderr",
     "output_type": "stream",
     "text": [
      "ERROR: failed to create cluster: node(s) already exist for a cluster with the name \"kind\"\n"
     ]
    }
   ],
   "source": [
    "!kind create cluster"
   ]
  },
  {
   "cell_type": "code",
   "execution_count": 8,
   "id": "79ffaf46",
   "metadata": {},
   "outputs": [
    {
     "name": "stdout",
     "output_type": "stream",
     "text": [
      "Kubernetes control plane is running at https://127.0.0.1:61902\n",
      "CoreDNS is running at https://127.0.0.1:61902/api/v1/namespaces/kube-system/services/kube-dns:dns/proxy\n",
      "\n",
      "To further debug and diagnose cluster problems, use 'kubectl cluster-info dump'.\n"
     ]
    }
   ],
   "source": [
    "!kubectl cluster-info"
   ]
  },
  {
   "cell_type": "markdown",
   "id": "bc13b4f1",
   "metadata": {},
   "source": [
    "### Question 4"
   ]
  },
  {
   "cell_type": "code",
   "execution_count": 9,
   "id": "c70f9cb1",
   "metadata": {},
   "outputs": [
    {
     "name": "stdout",
     "output_type": "stream",
     "text": [
      "NAME          TYPE           CLUSTER-IP      EXTERNAL-IP   PORT(S)        AGE\n",
      "credit-card   LoadBalancer   10.96.161.222   <pending>     80:31263/TCP   18h\n",
      "kubernetes    ClusterIP      10.96.0.1       <none>        443/TCP        20h\n"
     ]
    }
   ],
   "source": [
    "!kubectl get service"
   ]
  },
  {
   "cell_type": "markdown",
   "id": "f96cd795",
   "metadata": {},
   "source": [
    "### Question 5"
   ]
  },
  {
   "cell_type": "code",
   "execution_count": 11,
   "id": "4bf6cad4",
   "metadata": {},
   "outputs": [
    {
     "name": "stderr",
     "output_type": "stream",
     "text": [
      "Image: \"zoomcamp-model:v001\" with ID \"sha256:ff934ed6599ef0b07b02a007780e69a2dd2c903740f1b5c8dd02e27093a30375\" found to be already present on all nodes.\n"
     ]
    }
   ],
   "source": [
    "!kind load docker-image zoomcamp-model:v001"
   ]
  },
  {
   "cell_type": "markdown",
   "id": "62069cad",
   "metadata": {},
   "source": [
    "### Question 6"
   ]
  },
  {
   "cell_type": "markdown",
   "id": "60850413",
   "metadata": {},
   "source": [
    "    apiVersion: apps/v1\n",
    "    kind: Deployment\n",
    "    metadata:\n",
    "      name: credit-card\n",
    "    spec:\n",
    "      selector:\n",
    "        matchLabels:\n",
    "          app: credit-card\n",
    "      replicas: 1\n",
    "      template:\n",
    "        metadata:\n",
    "          labels:\n",
    "            app: credit-card\n",
    "        spec:\n",
    "          containers:\n",
    "          - name: credit-card\n",
    "            image: zoomcamp-model:v001\n",
    "            resources:\n",
    "              requests:\n",
    "                memory: \"64Mi\"\n",
    "                cpu: \"100m\"            \n",
    "              limits:\n",
    "                memory: \"128Mi\"\n",
    "                cpu: \"100m\"\n",
    "            ports:\n",
    "            - containerPort: 9696"
   ]
  },
  {
   "cell_type": "markdown",
   "id": "051a9b66",
   "metadata": {},
   "source": [
    "### Question 7"
   ]
  },
  {
   "cell_type": "markdown",
   "id": "038f67ab",
   "metadata": {},
   "source": [
    "    apiVersion: v1\n",
    "    kind: Service\n",
    "    metadata:\n",
    "      name: credit-card\n",
    "    spec:\n",
    "      type: LoadBalancer\n",
    "      selector:\n",
    "        app: credit-card\n",
    "      ports:\n",
    "      - port: 80\n",
    "        targetPort: 9696"
   ]
  },
  {
   "cell_type": "markdown",
   "id": "bfa970e8",
   "metadata": {},
   "source": [
    "#### Testing the service "
   ]
  },
  {
   "cell_type": "code",
   "execution_count": 15,
   "id": "dd7a137d",
   "metadata": {},
   "outputs": [
    {
     "name": "stdout",
     "output_type": "stream",
     "text": [
      "{'get_card': True, 'get_card_probability': 0.7692649226628628}\n"
     ]
    }
   ],
   "source": [
    "!python q6_test.py"
   ]
  },
  {
   "cell_type": "markdown",
   "id": "cdf63428",
   "metadata": {},
   "source": [
    "#### Autoscaling"
   ]
  },
  {
   "cell_type": "code",
   "execution_count": 16,
   "id": "f207e659",
   "metadata": {},
   "outputs": [
    {
     "name": "stderr",
     "output_type": "stream",
     "text": [
      "Error from server (AlreadyExists): horizontalpodautoscalers.autoscaling \"credit-card-hpa\" already exists\n"
     ]
    }
   ],
   "source": [
    "!kubectl autoscale deployment credit-card --name credit-card-hpa --cpu-percent=20 --min=1 --max=3"
   ]
  },
  {
   "cell_type": "code",
   "execution_count": 17,
   "id": "2da2b05e",
   "metadata": {},
   "outputs": [
    {
     "name": "stdout",
     "output_type": "stream",
     "text": [
      "NAME              REFERENCE                TARGETS         MINPODS   MAXPODS   REPLICAS   AGE\n",
      "credit-card-hpa   Deployment/credit-card   <unknown>/20%   1         3         1          18h\n"
     ]
    }
   ],
   "source": [
    "!kubectl get hpa"
   ]
  },
  {
   "cell_type": "code",
   "execution_count": 20,
   "id": "abac4970",
   "metadata": {},
   "outputs": [
    {
     "name": "stdout",
     "output_type": "stream",
     "text": [
      "{'get_card': True, 'get_card_probability': 0.7692649226628628}\n",
      "{'get_card': True, 'get_card_probability': 0.7692649226628628}\n",
      "{'get_card': True, 'get_card_probability': 0.7692649226628628}\n",
      "{'get_card': True, 'get_card_probability': 0.7692649226628628}\n",
      "{'get_card': True, 'get_card_probability': 0.7692649226628628}\n",
      "{'get_card': True, 'get_card_probability': 0.7692649226628628}\n",
      "{'get_card': True, 'get_card_probability': 0.7692649226628628}\n",
      "{'get_card': True, 'get_card_probability': 0.7692649226628628}\n",
      "{'get_card': True, 'get_card_probability': 0.7692649226628628}\n",
      "{'get_card': True, 'get_card_probability': 0.7692649226628628}\n",
      "{'get_card': True, 'get_card_probability': 0.7692649226628628}\n",
      "{'get_card': True, 'get_card_probability': 0.7692649226628628}\n",
      "{'get_card': True, 'get_card_probability': 0.7692649226628628}\n",
      "{'get_card': True, 'get_card_probability': 0.7692649226628628}\n",
      "{'get_card': True, 'get_card_probability': 0.7692649226628628}\n",
      "{'get_card': True, 'get_card_probability': 0.7692649226628628}\n"
     ]
    },
    {
     "ename": "KeyboardInterrupt",
     "evalue": "",
     "output_type": "error",
     "traceback": [
      "\u001b[1;31m---------------------------------------------------------------------------\u001b[0m",
      "\u001b[1;31mKeyboardInterrupt\u001b[0m                         Traceback (most recent call last)",
      "Input \u001b[1;32mIn [20]\u001b[0m, in \u001b[0;36m<cell line: 9>\u001b[1;34m()\u001b[0m\n\u001b[0;32m      7\u001b[0m client \u001b[38;5;241m=\u001b[39m {\u001b[38;5;124m\"\u001b[39m\u001b[38;5;124mreports\u001b[39m\u001b[38;5;124m\"\u001b[39m: \u001b[38;5;241m0\u001b[39m, \u001b[38;5;124m\"\u001b[39m\u001b[38;5;124mshare\u001b[39m\u001b[38;5;124m\"\u001b[39m: \u001b[38;5;241m0.245\u001b[39m, \u001b[38;5;124m\"\u001b[39m\u001b[38;5;124mexpenditure\u001b[39m\u001b[38;5;124m\"\u001b[39m: \u001b[38;5;241m3.438\u001b[39m, \u001b[38;5;124m\"\u001b[39m\u001b[38;5;124mowner\u001b[39m\u001b[38;5;124m\"\u001b[39m: \u001b[38;5;124m\"\u001b[39m\u001b[38;5;124myes\u001b[39m\u001b[38;5;124m\"\u001b[39m}\n\u001b[0;32m      8\u001b[0m \u001b[38;5;28;01mwhile\u001b[39;00m \u001b[38;5;28;01mTrue\u001b[39;00m:\n\u001b[1;32m----> 9\u001b[0m     \u001b[43mtime\u001b[49m\u001b[38;5;241;43m.\u001b[39;49m\u001b[43msleep\u001b[49m\u001b[43m(\u001b[49m\u001b[38;5;241;43m0.1\u001b[39;49m\u001b[43m)\u001b[49m\n\u001b[0;32m     10\u001b[0m     response \u001b[38;5;241m=\u001b[39m requests\u001b[38;5;241m.\u001b[39mpost(url, json\u001b[38;5;241m=\u001b[39mclient)\u001b[38;5;241m.\u001b[39mjson()\n\u001b[0;32m     11\u001b[0m     \u001b[38;5;28mprint\u001b[39m(response)\n",
      "\u001b[1;31mKeyboardInterrupt\u001b[0m: "
     ]
    }
   ],
   "source": [
    "import requests\n",
    "import time\n",
    "\n",
    "\n",
    "url = \"http://localhost:9696/predict\"\n",
    "\n",
    "client = {\"reports\": 0, \"share\": 0.245, \"expenditure\": 3.438, \"owner\": \"yes\"}\n",
    "while True:\n",
    "    time.sleep(0.1)\n",
    "    response = requests.post(url, json=client).json()\n",
    "    print(response)"
   ]
  },
  {
   "cell_type": "markdown",
   "id": "b987cba4",
   "metadata": {},
   "source": [
    "### Question 8"
   ]
  },
  {
   "cell_type": "code",
   "execution_count": 19,
   "id": "7874454f",
   "metadata": {},
   "outputs": [
    {
     "name": "stdout",
     "output_type": "stream",
     "text": [
      "^C\n"
     ]
    }
   ],
   "source": [
    "!kubectl get hpa credit-card-hpa --watch"
   ]
  },
  {
   "cell_type": "code",
   "execution_count": null,
   "id": "78bbfa44",
   "metadata": {},
   "outputs": [],
   "source": []
  }
 ],
 "metadata": {
  "kernelspec": {
   "display_name": "Python 3 (ipykernel)",
   "language": "python",
   "name": "python3"
  },
  "language_info": {
   "codemirror_mode": {
    "name": "ipython",
    "version": 3
   },
   "file_extension": ".py",
   "mimetype": "text/x-python",
   "name": "python",
   "nbconvert_exporter": "python",
   "pygments_lexer": "ipython3",
   "version": "3.9.13"
  },
  "varInspector": {
   "cols": {
    "lenName": 16,
    "lenType": 16,
    "lenVar": 40
   },
   "kernels_config": {
    "python": {
     "delete_cmd_postfix": "",
     "delete_cmd_prefix": "del ",
     "library": "var_list.py",
     "varRefreshCmd": "print(var_dic_list())"
    },
    "r": {
     "delete_cmd_postfix": ") ",
     "delete_cmd_prefix": "rm(",
     "library": "var_list.r",
     "varRefreshCmd": "cat(var_dic_list()) "
    }
   },
   "types_to_exclude": [
    "module",
    "function",
    "builtin_function_or_method",
    "instance",
    "_Feature"
   ],
   "window_display": false
  }
 },
 "nbformat": 4,
 "nbformat_minor": 5
}
