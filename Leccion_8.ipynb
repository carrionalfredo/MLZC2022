{
  "nbformat": 4,
  "nbformat_minor": 0,
  "metadata": {
    "colab": {
      "provenance": [],
      "authorship_tag": "ABX9TyPIF3hh0GE+dCLJgMjNnfHN",
      "include_colab_link": true
    },
    "kernelspec": {
      "name": "python3",
      "display_name": "Python 3"
    },
    "language_info": {
      "name": "python"
    },
    "accelerator": "GPU",
    "gpuClass": "standard"
  },
  "cells": [
    {
      "cell_type": "markdown",
      "metadata": {
        "id": "view-in-github",
        "colab_type": "text"
      },
      "source": [
        "<a href=\"https://colab.research.google.com/github/carrionalfredo/MLZC2022/blob/main/Leccion_8.ipynb\" target=\"_parent\"><img src=\"https://colab.research.google.com/assets/colab-badge.svg\" alt=\"Open In Colab\"/></a>"
      ]
    },
    {
      "cell_type": "code",
      "source": [
        "!git clone https://github.com/alexeygrigorev/clothing-dataset-small.git"
      ],
      "metadata": {
        "colab": {
          "base_uri": "https://localhost:8080/"
        },
        "id": "Svoawu03S7SZ",
        "outputId": "da10eab5-399f-4388-a007-f37bae70cf61"
      },
      "execution_count": 5,
      "outputs": [
        {
          "output_type": "stream",
          "name": "stdout",
          "text": [
            "Cloning into 'clothing-dataset-small'...\n",
            "remote: Enumerating objects: 3839, done.\u001b[K\n",
            "remote: Counting objects: 100% (400/400), done.\u001b[K\n",
            "remote: Compressing objects: 100% (400/400), done.\u001b[K\n",
            "remote: Total 3839 (delta 9), reused 385 (delta 0), pack-reused 3439\u001b[K\n",
            "Receiving objects: 100% (3839/3839), 100.58 MiB | 16.63 MiB/s, done.\n",
            "Resolving deltas: 100% (10/10), done.\n"
          ]
        }
      ]
    },
    {
      "cell_type": "code",
      "execution_count": 6,
      "metadata": {
        "id": "XNgWmfdCRFSk"
      },
      "outputs": [],
      "source": [
        "import numpy as np\n",
        "import matplotlib.pyplot as plt\n",
        "\n",
        "%matplotlib inline"
      ]
    },
    {
      "cell_type": "code",
      "source": [
        "pip install tensorflow"
      ],
      "metadata": {
        "colab": {
          "base_uri": "https://localhost:8080/"
        },
        "id": "RHc7jOrJSU2j",
        "outputId": "e9345572-d2e7-4006-ffd1-1d2e57923a7a"
      },
      "execution_count": 7,
      "outputs": [
        {
          "output_type": "stream",
          "name": "stdout",
          "text": [
            "Looking in indexes: https://pypi.org/simple, https://us-python.pkg.dev/colab-wheels/public/simple/\n",
            "Requirement already satisfied: tensorflow in /usr/local/lib/python3.7/dist-packages (2.9.2)\n",
            "Requirement already satisfied: tensorflow-estimator<2.10.0,>=2.9.0rc0 in /usr/local/lib/python3.7/dist-packages (from tensorflow) (2.9.0)\n",
            "Requirement already satisfied: keras-preprocessing>=1.1.1 in /usr/local/lib/python3.7/dist-packages (from tensorflow) (1.1.2)\n",
            "Requirement already satisfied: astunparse>=1.6.0 in /usr/local/lib/python3.7/dist-packages (from tensorflow) (1.6.3)\n",
            "Requirement already satisfied: h5py>=2.9.0 in /usr/local/lib/python3.7/dist-packages (from tensorflow) (3.1.0)\n",
            "Requirement already satisfied: libclang>=13.0.0 in /usr/local/lib/python3.7/dist-packages (from tensorflow) (14.0.6)\n",
            "Requirement already satisfied: packaging in /usr/local/lib/python3.7/dist-packages (from tensorflow) (21.3)\n",
            "Requirement already satisfied: gast<=0.4.0,>=0.2.1 in /usr/local/lib/python3.7/dist-packages (from tensorflow) (0.4.0)\n",
            "Requirement already satisfied: absl-py>=1.0.0 in /usr/local/lib/python3.7/dist-packages (from tensorflow) (1.3.0)\n",
            "Requirement already satisfied: grpcio<2.0,>=1.24.3 in /usr/local/lib/python3.7/dist-packages (from tensorflow) (1.50.0)\n",
            "Requirement already satisfied: setuptools in /usr/local/lib/python3.7/dist-packages (from tensorflow) (57.4.0)\n",
            "Requirement already satisfied: typing-extensions>=3.6.6 in /usr/local/lib/python3.7/dist-packages (from tensorflow) (4.1.1)\n",
            "Requirement already satisfied: wrapt>=1.11.0 in /usr/local/lib/python3.7/dist-packages (from tensorflow) (1.14.1)\n",
            "Requirement already satisfied: keras<2.10.0,>=2.9.0rc0 in /usr/local/lib/python3.7/dist-packages (from tensorflow) (2.9.0)\n",
            "Requirement already satisfied: protobuf<3.20,>=3.9.2 in /usr/local/lib/python3.7/dist-packages (from tensorflow) (3.19.6)\n",
            "Requirement already satisfied: six>=1.12.0 in /usr/local/lib/python3.7/dist-packages (from tensorflow) (1.15.0)\n",
            "Requirement already satisfied: termcolor>=1.1.0 in /usr/local/lib/python3.7/dist-packages (from tensorflow) (2.1.0)\n",
            "Requirement already satisfied: numpy>=1.20 in /usr/local/lib/python3.7/dist-packages (from tensorflow) (1.21.6)\n",
            "Requirement already satisfied: tensorflow-io-gcs-filesystem>=0.23.1 in /usr/local/lib/python3.7/dist-packages (from tensorflow) (0.27.0)\n",
            "Requirement already satisfied: google-pasta>=0.1.1 in /usr/local/lib/python3.7/dist-packages (from tensorflow) (0.2.0)\n",
            "Requirement already satisfied: opt-einsum>=2.3.2 in /usr/local/lib/python3.7/dist-packages (from tensorflow) (3.3.0)\n",
            "Requirement already satisfied: tensorboard<2.10,>=2.9 in /usr/local/lib/python3.7/dist-packages (from tensorflow) (2.9.1)\n",
            "Requirement already satisfied: flatbuffers<2,>=1.12 in /usr/local/lib/python3.7/dist-packages (from tensorflow) (1.12)\n",
            "Requirement already satisfied: wheel<1.0,>=0.23.0 in /usr/local/lib/python3.7/dist-packages (from astunparse>=1.6.0->tensorflow) (0.38.3)\n",
            "Requirement already satisfied: cached-property in /usr/local/lib/python3.7/dist-packages (from h5py>=2.9.0->tensorflow) (1.5.2)\n",
            "Requirement already satisfied: google-auth-oauthlib<0.5,>=0.4.1 in /usr/local/lib/python3.7/dist-packages (from tensorboard<2.10,>=2.9->tensorflow) (0.4.6)\n",
            "Requirement already satisfied: markdown>=2.6.8 in /usr/local/lib/python3.7/dist-packages (from tensorboard<2.10,>=2.9->tensorflow) (3.4.1)\n",
            "Requirement already satisfied: werkzeug>=1.0.1 in /usr/local/lib/python3.7/dist-packages (from tensorboard<2.10,>=2.9->tensorflow) (1.0.1)\n",
            "Requirement already satisfied: requests<3,>=2.21.0 in /usr/local/lib/python3.7/dist-packages (from tensorboard<2.10,>=2.9->tensorflow) (2.23.0)\n",
            "Requirement already satisfied: google-auth<3,>=1.6.3 in /usr/local/lib/python3.7/dist-packages (from tensorboard<2.10,>=2.9->tensorflow) (2.14.1)\n",
            "Requirement already satisfied: tensorboard-data-server<0.7.0,>=0.6.0 in /usr/local/lib/python3.7/dist-packages (from tensorboard<2.10,>=2.9->tensorflow) (0.6.1)\n",
            "Requirement already satisfied: tensorboard-plugin-wit>=1.6.0 in /usr/local/lib/python3.7/dist-packages (from tensorboard<2.10,>=2.9->tensorflow) (1.8.1)\n",
            "Requirement already satisfied: cachetools<6.0,>=2.0.0 in /usr/local/lib/python3.7/dist-packages (from google-auth<3,>=1.6.3->tensorboard<2.10,>=2.9->tensorflow) (5.2.0)\n",
            "Requirement already satisfied: pyasn1-modules>=0.2.1 in /usr/local/lib/python3.7/dist-packages (from google-auth<3,>=1.6.3->tensorboard<2.10,>=2.9->tensorflow) (0.2.8)\n",
            "Requirement already satisfied: rsa<5,>=3.1.4 in /usr/local/lib/python3.7/dist-packages (from google-auth<3,>=1.6.3->tensorboard<2.10,>=2.9->tensorflow) (4.9)\n",
            "Requirement already satisfied: requests-oauthlib>=0.7.0 in /usr/local/lib/python3.7/dist-packages (from google-auth-oauthlib<0.5,>=0.4.1->tensorboard<2.10,>=2.9->tensorflow) (1.3.1)\n",
            "Requirement already satisfied: importlib-metadata>=4.4 in /usr/local/lib/python3.7/dist-packages (from markdown>=2.6.8->tensorboard<2.10,>=2.9->tensorflow) (4.13.0)\n",
            "Requirement already satisfied: zipp>=0.5 in /usr/local/lib/python3.7/dist-packages (from importlib-metadata>=4.4->markdown>=2.6.8->tensorboard<2.10,>=2.9->tensorflow) (3.10.0)\n",
            "Requirement already satisfied: pyasn1<0.5.0,>=0.4.6 in /usr/local/lib/python3.7/dist-packages (from pyasn1-modules>=0.2.1->google-auth<3,>=1.6.3->tensorboard<2.10,>=2.9->tensorflow) (0.4.8)\n",
            "Requirement already satisfied: certifi>=2017.4.17 in /usr/local/lib/python3.7/dist-packages (from requests<3,>=2.21.0->tensorboard<2.10,>=2.9->tensorflow) (2022.9.24)\n",
            "Requirement already satisfied: idna<3,>=2.5 in /usr/local/lib/python3.7/dist-packages (from requests<3,>=2.21.0->tensorboard<2.10,>=2.9->tensorflow) (2.10)\n",
            "Requirement already satisfied: urllib3!=1.25.0,!=1.25.1,<1.26,>=1.21.1 in /usr/local/lib/python3.7/dist-packages (from requests<3,>=2.21.0->tensorboard<2.10,>=2.9->tensorflow) (1.24.3)\n",
            "Requirement already satisfied: chardet<4,>=3.0.2 in /usr/local/lib/python3.7/dist-packages (from requests<3,>=2.21.0->tensorboard<2.10,>=2.9->tensorflow) (3.0.4)\n",
            "Requirement already satisfied: oauthlib>=3.0.0 in /usr/local/lib/python3.7/dist-packages (from requests-oauthlib>=0.7.0->google-auth-oauthlib<0.5,>=0.4.1->tensorboard<2.10,>=2.9->tensorflow) (3.2.2)\n",
            "Requirement already satisfied: pyparsing!=3.0.5,>=2.0.2 in /usr/local/lib/python3.7/dist-packages (from packaging->tensorflow) (3.0.9)\n"
          ]
        }
      ]
    },
    {
      "cell_type": "code",
      "source": [
        "import tensorflow as tf\n",
        "from tensorflow import keras"
      ],
      "metadata": {
        "id": "O7cW9SyRSXUS"
      },
      "execution_count": 8,
      "outputs": []
    },
    {
      "cell_type": "code",
      "source": [
        "from tensorflow.keras.preprocessing.image import load_img"
      ],
      "metadata": {
        "id": "IUpPkcWVSdLq"
      },
      "execution_count": 9,
      "outputs": []
    },
    {
      "cell_type": "code",
      "source": [
        "path = './clothing-dataset-small/train/t-shirt'\n",
        "name = '5f0a3fa0-6a3d-4b68-b213-72766a643de7.jpg'\n",
        "fullname = f'{path}/{name}'\n",
        "load_img(fullname)"
      ],
      "metadata": {
        "colab": {
          "base_uri": "https://localhost:8080/",
          "height": 550
        },
        "id": "OvOLsZc-Sf4a",
        "outputId": "8acd1ded-2990-4bc8-c78f-3cc4a835ad66"
      },
      "execution_count": 10,
      "outputs": [
        {
          "output_type": "execute_result",
          "data": {
            "text/plain": [
              "<PIL.JpegImagePlugin.JpegImageFile image mode=RGB size=400x533 at 0x7F9DD57F9DD0>"
            ],
            "image/png": "[encoded data removed]"
          },
          "metadata": {},
          "execution_count": 10
        }
      ]
    },
    {
      "cell_type": "code",
      "source": [
        "img=load_img(fullname, target_size=(299,299))"
      ],
      "metadata": {
        "id": "i0X0uZVlSjP2"
      },
      "execution_count": 11,
      "outputs": []
    },
    {
      "cell_type": "code",
      "source": [
        "x = np.array(img)\n",
        "x.shape"
      ],
      "metadata": {
        "colab": {
          "base_uri": "https://localhost:8080/"
        },
        "id": "acL7x9J_TGLD",
        "outputId": "113bc930-6299-4de8-e9df-886e257505b0"
      },
      "execution_count": 12,
      "outputs": [
        {
          "output_type": "execute_result",
          "data": {
            "text/plain": [
              "(299, 299, 3)"
            ]
          },
          "metadata": {},
          "execution_count": 12
        }
      ]
    },
    {
      "cell_type": "code",
      "source": [
        "x"
      ],
      "metadata": {
        "colab": {
          "base_uri": "https://localhost:8080/"
        },
        "id": "1wJRSE39TIGH",
        "outputId": "5aaca16f-5f10-4b17-d271-e6798e413134"
      },
      "execution_count": 13,
      "outputs": [
        {
          "output_type": "execute_result",
          "data": {
            "text/plain": [
              "array([[[179, 171,  99],\n",
              "        [179, 171,  99],\n",
              "        [181, 173, 101],\n",
              "        ...,\n",
              "        [251, 253, 248],\n",
              "        [251, 253, 248],\n",
              "        [251, 253, 248]],\n",
              "\n",
              "       [[188, 179, 110],\n",
              "        [187, 178, 109],\n",
              "        [186, 177, 108],\n",
              "        ...,\n",
              "        [251, 252, 247],\n",
              "        [251, 252, 247],\n",
              "        [251, 252, 246]],\n",
              "\n",
              "       [[199, 189, 127],\n",
              "        [200, 190, 128],\n",
              "        [200, 190, 128],\n",
              "        ...,\n",
              "        [250, 251, 245],\n",
              "        [250, 251, 245],\n",
              "        [250, 251, 245]],\n",
              "\n",
              "       ...,\n",
              "\n",
              "       [[165, 151,  76],\n",
              "        [173, 159,  84],\n",
              "        [171, 157,  82],\n",
              "        ...,\n",
              "        [183, 135,  24],\n",
              "        [181, 133,  22],\n",
              "        [183, 135,  24]],\n",
              "\n",
              "       [[165, 151,  76],\n",
              "        [173, 159,  84],\n",
              "        [171, 157,  82],\n",
              "        ...,\n",
              "        [182, 134,  23],\n",
              "        [180, 132,  21],\n",
              "        [182, 134,  23]],\n",
              "\n",
              "       [[165, 151,  76],\n",
              "        [173, 159,  84],\n",
              "        [171, 157,  82],\n",
              "        ...,\n",
              "        [181, 133,  22],\n",
              "        [179, 131,  20],\n",
              "        [182, 134,  23]]], dtype=uint8)"
            ]
          },
          "metadata": {},
          "execution_count": 13
        }
      ]
    },
    {
      "cell_type": "markdown",
      "source": [
        "Pre-trained convolutional neural networks"
      ],
      "metadata": {
        "id": "sFzwHVoOTPVe"
      }
    },
    {
      "cell_type": "code",
      "source": [
        "from tensorflow.keras.applications.xception import Xception\n",
        "from tensorflow.keras.applications.xception import preprocess_input\n",
        "from tensorflow.keras.applications.xception import decode_predictions"
      ],
      "metadata": {
        "id": "keibAGG_TJyL"
      },
      "execution_count": 14,
      "outputs": []
    },
    {
      "cell_type": "code",
      "source": [
        "model = Xception(weights='imagenet', input_shape=(299,299,3))"
      ],
      "metadata": {
        "colab": {
          "base_uri": "https://localhost:8080/"
        },
        "id": "yHsm-RB3TVxJ",
        "outputId": "8da5e2bc-e534-4555-f5e2-1b63ec040dfb"
      },
      "execution_count": 15,
      "outputs": [
        {
          "output_type": "stream",
          "name": "stdout",
          "text": [
            "Downloading data from https://storage.googleapis.com/tensorflow/keras-applications/xception/xception_weights_tf_dim_ordering_tf_kernels.h5\n",
            "91884032/91884032 [==============================] - 7s 0us/step\n"
          ]
        }
      ]
    },
    {
      "cell_type": "code",
      "source": [
        "X = np.array([x])"
      ],
      "metadata": {
        "id": "l_3f0h7rTXch"
      },
      "execution_count": 16,
      "outputs": []
    },
    {
      "cell_type": "code",
      "source": [
        "X = preprocess_input(X)"
      ],
      "metadata": {
        "id": "ubmIClRbTb47"
      },
      "execution_count": 17,
      "outputs": []
    },
    {
      "cell_type": "code",
      "source": [
        "X[0]"
      ],
      "metadata": {
        "colab": {
          "base_uri": "https://localhost:8080/"
        },
        "id": "0-XT6pXnTdSB",
        "outputId": "cb804eac-a272-464b-b0aa-86f8b7ddeee0"
      },
      "execution_count": 18,
      "outputs": [
        {
          "output_type": "execute_result",
          "data": {
            "text/plain": [
              "array([[[ 0.4039216 ,  0.3411765 , -0.2235294 ],\n",
              "        [ 0.4039216 ,  0.3411765 , -0.2235294 ],\n",
              "        [ 0.41960788,  0.35686278, -0.20784312],\n",
              "        ...,\n",
              "        [ 0.96862745,  0.9843137 ,  0.94509804],\n",
              "        [ 0.96862745,  0.9843137 ,  0.94509804],\n",
              "        [ 0.96862745,  0.9843137 ,  0.94509804]],\n",
              "\n",
              "       [[ 0.47450984,  0.4039216 , -0.1372549 ],\n",
              "        [ 0.4666667 ,  0.39607847, -0.14509803],\n",
              "        [ 0.45882356,  0.38823533, -0.15294117],\n",
              "        ...,\n",
              "        [ 0.96862745,  0.9764706 ,  0.9372549 ],\n",
              "        [ 0.96862745,  0.9764706 ,  0.9372549 ],\n",
              "        [ 0.96862745,  0.9764706 ,  0.92941177]],\n",
              "\n",
              "       [[ 0.56078434,  0.48235297, -0.00392157],\n",
              "        [ 0.5686275 ,  0.4901961 ,  0.00392163],\n",
              "        [ 0.5686275 ,  0.4901961 ,  0.00392163],\n",
              "        ...,\n",
              "        [ 0.9607843 ,  0.96862745,  0.92156863],\n",
              "        [ 0.9607843 ,  0.96862745,  0.92156863],\n",
              "        [ 0.9607843 ,  0.96862745,  0.92156863]],\n",
              "\n",
              "       ...,\n",
              "\n",
              "       [[ 0.2941177 ,  0.18431377, -0.40392154],\n",
              "        [ 0.35686278,  0.24705887, -0.34117645],\n",
              "        [ 0.3411765 ,  0.2313726 , -0.35686272],\n",
              "        ...,\n",
              "        [ 0.43529415,  0.05882359, -0.8117647 ],\n",
              "        [ 0.41960788,  0.04313731, -0.827451  ],\n",
              "        [ 0.43529415,  0.05882359, -0.8117647 ]],\n",
              "\n",
              "       [[ 0.2941177 ,  0.18431377, -0.40392154],\n",
              "        [ 0.35686278,  0.24705887, -0.34117645],\n",
              "        [ 0.3411765 ,  0.2313726 , -0.35686272],\n",
              "        ...,\n",
              "        [ 0.427451  ,  0.05098045, -0.81960785],\n",
              "        [ 0.41176474,  0.03529418, -0.8352941 ],\n",
              "        [ 0.427451  ,  0.05098045, -0.81960785]],\n",
              "\n",
              "       [[ 0.2941177 ,  0.18431377, -0.40392154],\n",
              "        [ 0.35686278,  0.24705887, -0.34117645],\n",
              "        [ 0.3411765 ,  0.2313726 , -0.35686272],\n",
              "        ...,\n",
              "        [ 0.41960788,  0.04313731, -0.827451  ],\n",
              "        [ 0.4039216 ,  0.02745104, -0.84313726],\n",
              "        [ 0.427451  ,  0.05098045, -0.81960785]]], dtype=float32)"
            ]
          },
          "metadata": {},
          "execution_count": 18
        }
      ]
    },
    {
      "cell_type": "code",
      "source": [
        "pred = model.predict(X)"
      ],
      "metadata": {
        "colab": {
          "base_uri": "https://localhost:8080/"
        },
        "id": "v4E4HCzRTesZ",
        "outputId": "5c5f737e-0814-4066-b5c9-229005877bb4"
      },
      "execution_count": 19,
      "outputs": [
        {
          "output_type": "stream",
          "name": "stdout",
          "text": [
            "1/1 [==============================] - 8s 8s/step\n"
          ]
        }
      ]
    },
    {
      "cell_type": "code",
      "source": [
        "decode_predictions(pred)"
      ],
      "metadata": {
        "colab": {
          "base_uri": "https://localhost:8080/"
        },
        "id": "PT8pYincThqX",
        "outputId": "2ec7cdbb-e027-419a-ad34-ce57d56e2987"
      },
      "execution_count": 20,
      "outputs": [
        {
          "output_type": "stream",
          "name": "stdout",
          "text": [
            "Downloading data from https://storage.googleapis.com/download.tensorflow.org/data/imagenet_class_index.json\n",
            "35363/35363 [==============================] - 0s 0us/step\n"
          ]
        },
        {
          "output_type": "execute_result",
          "data": {
            "text/plain": [
              "[[('n03595614', 'jersey', 0.6792449),\n",
              "  ('n02916936', 'bulletproof_vest', 0.03960036),\n",
              "  ('n04370456', 'sweatshirt', 0.035299573),\n",
              "  ('n03710637', 'maillot', 0.01088412),\n",
              "  ('n04525038', 'velvet', 0.0018057581)]]"
            ]
          },
          "metadata": {},
          "execution_count": 20
        }
      ]
    },
    {
      "cell_type": "markdown",
      "source": [
        "Transfer learning"
      ],
      "metadata": {
        "id": "DlwVoq5lTr0r"
      }
    },
    {
      "cell_type": "code",
      "source": [
        "from tensorflow.keras.preprocessing.image import ImageDataGenerator"
      ],
      "metadata": {
        "id": "H0imbfHyTl8x"
      },
      "execution_count": 21,
      "outputs": []
    },
    {
      "cell_type": "code",
      "source": [
        "train_gen = ImageDataGenerator(preprocessing_function=preprocess_input)"
      ],
      "metadata": {
        "id": "Iaf4gNoLTw85"
      },
      "execution_count": 22,
      "outputs": []
    },
    {
      "cell_type": "code",
      "source": [
        "train_ds = train_gen.flow_from_directory(\n",
        "    './clothing-dataset-small/train',\n",
        "    target_size=(150,150),\n",
        "    batch_size=32\n",
        ")"
      ],
      "metadata": {
        "colab": {
          "base_uri": "https://localhost:8080/"
        },
        "id": "7H_Inyt3Typb",
        "outputId": "317dea3c-f84c-43b1-e360-5988f16f6c30"
      },
      "execution_count": 23,
      "outputs": [
        {
          "output_type": "stream",
          "name": "stdout",
          "text": [
            "Found 3068 images belonging to 10 classes.\n"
          ]
        }
      ]
    },
    {
      "cell_type": "code",
      "source": [
        "train_ds.class_indices"
      ],
      "metadata": {
        "colab": {
          "base_uri": "https://localhost:8080/"
        },
        "id": "mYwVNDheT0mm",
        "outputId": "ce833612-474f-47fc-e359-a6de46e20742"
      },
      "execution_count": 24,
      "outputs": [
        {
          "output_type": "execute_result",
          "data": {
            "text/plain": [
              "{'dress': 0,\n",
              " 'hat': 1,\n",
              " 'longsleeve': 2,\n",
              " 'outwear': 3,\n",
              " 'pants': 4,\n",
              " 'shirt': 5,\n",
              " 'shoes': 6,\n",
              " 'shorts': 7,\n",
              " 'skirt': 8,\n",
              " 't-shirt': 9}"
            ]
          },
          "metadata": {},
          "execution_count": 24
        }
      ]
    },
    {
      "cell_type": "code",
      "source": [
        "X, y = next(train_ds)"
      ],
      "metadata": {
        "id": "3HhJgl7TT2Xl"
      },
      "execution_count": 25,
      "outputs": []
    },
    {
      "cell_type": "code",
      "source": [
        "y[:5]"
      ],
      "metadata": {
        "colab": {
          "base_uri": "https://localhost:8080/"
        },
        "id": "Gm92dsc5T40y",
        "outputId": "96e5d7a4-8114-40d4-dd54-015a61418713"
      },
      "execution_count": 26,
      "outputs": [
        {
          "output_type": "execute_result",
          "data": {
            "text/plain": [
              "array([[0., 1., 0., 0., 0., 0., 0., 0., 0., 0.],\n",
              "       [0., 0., 0., 0., 0., 0., 0., 0., 0., 1.],\n",
              "       [0., 0., 0., 0., 0., 0., 0., 1., 0., 0.],\n",
              "       [0., 1., 0., 0., 0., 0., 0., 0., 0., 0.],\n",
              "       [0., 0., 0., 0., 1., 0., 0., 0., 0., 0.]], dtype=float32)"
            ]
          },
          "metadata": {},
          "execution_count": 26
        }
      ]
    },
    {
      "cell_type": "code",
      "source": [
        "val_gen = ImageDataGenerator(preprocessing_function=preprocess_input)\n",
        "\n",
        "val_ds = val_gen.flow_from_directory(\n",
        "    './clothing-dataset-small/validation/',\n",
        "    target_size=(150,150),\n",
        "    batch_size=32,\n",
        "    shuffle=False\n",
        ")"
      ],
      "metadata": {
        "colab": {
          "base_uri": "https://localhost:8080/"
        },
        "id": "w2Ek_u_NT606",
        "outputId": "fd9e4b5b-3faf-40e1-f617-0ebe628e0122"
      },
      "execution_count": 27,
      "outputs": [
        {
          "output_type": "stream",
          "name": "stdout",
          "text": [
            "Found 341 images belonging to 10 classes.\n"
          ]
        }
      ]
    },
    {
      "cell_type": "code",
      "source": [
        "base_model= Xception(\n",
        "    weights='imagenet',\n",
        "    include_top=False,\n",
        "    input_shape=(150,150,3)\n",
        ")\n",
        "\n",
        "base_model.trainable=False"
      ],
      "metadata": {
        "colab": {
          "base_uri": "https://localhost:8080/"
        },
        "id": "zgYqy_-rT84K",
        "outputId": "554d5c71-3a2c-4580-a450-b362d3224a81"
      },
      "execution_count": 28,
      "outputs": [
        {
          "output_type": "stream",
          "name": "stdout",
          "text": [
            "Downloading data from https://storage.googleapis.com/tensorflow/keras-applications/xception/xception_weights_tf_dim_ordering_tf_kernels_notop.h5\n",
            "83683744/83683744 [==============================] - 6s 0us/step\n"
          ]
        }
      ]
    },
    {
      "cell_type": "code",
      "source": [
        "inputs = keras.Input(shape=(150,150,3))\n",
        "\n",
        "base = base_model(inputs, training= False)\n",
        "\n",
        "vectors = keras.layers.GlobalAveragePooling2D()(base)\n",
        "\n",
        "outputs = keras.layers.Dense(10)(vectors)\n",
        "\n",
        "model= keras.Model(inputs, outputs)"
      ],
      "metadata": {
        "id": "zop9tjUyT_G8"
      },
      "execution_count": 29,
      "outputs": []
    },
    {
      "cell_type": "code",
      "source": [
        "pred = model.predict(X)"
      ],
      "metadata": {
        "colab": {
          "base_uri": "https://localhost:8080/"
        },
        "id": "olu1HRuTUCii",
        "outputId": "24d64c11-bef1-4c9c-ce9b-1c967b69078a"
      },
      "execution_count": 30,
      "outputs": [
        {
          "output_type": "stream",
          "name": "stdout",
          "text": [
            "1/1 [==============================] - 2s 2s/step\n"
          ]
        }
      ]
    },
    {
      "cell_type": "code",
      "source": [
        "pred[0]"
      ],
      "metadata": {
        "colab": {
          "base_uri": "https://localhost:8080/"
        },
        "id": "OE-eq3pKUFAd",
        "outputId": "4cbd645a-6801-4a8d-9ef6-ec83f79443a4"
      },
      "execution_count": 31,
      "outputs": [
        {
          "output_type": "execute_result",
          "data": {
            "text/plain": [
              "array([ 0.18668376, -0.16748014, -0.493854  ,  0.04078412, -0.8694404 ,\n",
              "       -0.2982021 , -1.4175234 , -0.32000208, -0.21292351, -0.0969854 ],\n",
              "      dtype=float32)"
            ]
          },
          "metadata": {},
          "execution_count": 31
        }
      ]
    },
    {
      "cell_type": "code",
      "source": [
        "learning_rate = 0.01\n",
        "optimizer = keras.optimizers.Adam(learning_rate=learning_rate)\n",
        "\n",
        "loss = keras.losses.CategoricalCrossentropy(from_logits=True)"
      ],
      "metadata": {
        "id": "JHCeAEjBUHSZ"
      },
      "execution_count": 32,
      "outputs": []
    },
    {
      "cell_type": "code",
      "source": [
        "model.compile(optimizer=optimizer, loss=loss, metrics=['accuracy'])"
      ],
      "metadata": {
        "id": "cbMZgMQHUKWR"
      },
      "execution_count": 33,
      "outputs": []
    },
    {
      "cell_type": "code",
      "source": [
        "history = model.fit(train_ds, epochs=10, validation_data=val_ds)"
      ],
      "metadata": {
        "colab": {
          "base_uri": "https://localhost:8080/"
        },
        "id": "LZrV8OlKUMTK",
        "outputId": "94c6456a-21d5-4fb4-c963-aa81ed05fb1d"
      },
      "execution_count": 34,
      "outputs": [
        {
          "output_type": "stream",
          "name": "stdout",
          "text": [
            "Epoch 1/10\n",
            "96/96 [==============================] - 19s 167ms/step - loss: 1.3214 - accuracy: 0.6679 - val_loss: 0.7800 - val_accuracy: 0.8065\n",
            "Epoch 2/10\n",
            "96/96 [==============================] - 14s 144ms/step - loss: 0.5206 - accuracy: 0.8344 - val_loss: 0.8365 - val_accuracy: 0.7859\n",
            "Epoch 3/10\n",
            "96/96 [==============================] - 14s 144ms/step - loss: 0.3686 - accuracy: 0.8745 - val_loss: 0.9113 - val_accuracy: 0.7947\n",
            "Epoch 4/10\n",
            "96/96 [==============================] - 14s 144ms/step - loss: 0.2927 - accuracy: 0.9012 - val_loss: 0.8567 - val_accuracy: 0.7918\n",
            "Epoch 5/10\n",
            "96/96 [==============================] - 15s 152ms/step - loss: 0.1589 - accuracy: 0.9475 - val_loss: 0.8514 - val_accuracy: 0.8211\n",
            "Epoch 6/10\n",
            "96/96 [==============================] - 14s 145ms/step - loss: 0.1124 - accuracy: 0.9583 - val_loss: 1.0467 - val_accuracy: 0.7859\n",
            "Epoch 7/10\n",
            "96/96 [==============================] - 14s 147ms/step - loss: 0.1025 - accuracy: 0.9648 - val_loss: 0.8164 - val_accuracy: 0.8094\n",
            "Epoch 8/10\n",
            "96/96 [==============================] - 14s 146ms/step - loss: 0.0629 - accuracy: 0.9788 - val_loss: 0.9018 - val_accuracy: 0.8270\n",
            "Epoch 9/10\n",
            "96/96 [==============================] - 14s 146ms/step - loss: 0.0500 - accuracy: 0.9866 - val_loss: 0.8816 - val_accuracy: 0.7830\n",
            "Epoch 10/10\n",
            "96/96 [==============================] - 14s 144ms/step - loss: 0.0365 - accuracy: 0.9892 - val_loss: 0.9865 - val_accuracy: 0.8152\n"
          ]
        }
      ]
    },
    {
      "cell_type": "code",
      "source": [
        "plt.plot(history.history['accuracy'], label='train')\n",
        "plt.plot(history.history['val_accuracy'], label='val')\n",
        "plt.xticks(np.arange(10))\n",
        "\n",
        "plt.legend()"
      ],
      "metadata": {
        "colab": {
          "base_uri": "https://localhost:8080/",
          "height": 283
        },
        "id": "QMBt9z9EUPgq",
        "outputId": "7a4b08ea-d9fa-4ee5-c88b-cd0f5e01305f"
      },
      "execution_count": 35,
      "outputs": [
        {
          "output_type": "execute_result",
          "data": {
            "text/plain": [
              "<matplotlib.legend.Legend at 0x7f9d6c96e890>"
            ]
          },
          "metadata": {},
          "execution_count": 35
        },
        {
          "output_type": "display_data",
          "data": {
            "text/plain": [
              "<Figure size 432x288 with 1 Axes>"
            ],
            "image/png": "[encoded data removed]"
          },
          "metadata": {
            "needs_background": "light"
          }
        }
      ]
    },
    {
      "cell_type": "markdown",
      "source": [
        "Adjusting the learning rate"
      ],
      "metadata": {
        "id": "9lPlxEOdUbf9"
      }
    },
    {
      "cell_type": "code",
      "source": [
        "def make_model(learning_rate = 0.01):\n",
        "    base_model= Xception(\n",
        "    weights='imagenet',\n",
        "    include_top=False,\n",
        "    input_shape=(150,150,3)\n",
        "    )\n",
        "\n",
        "    base_model.trainable=False\n",
        "\n",
        "    ################################################\n",
        "    \n",
        "    inputs = keras.Input(shape=(150,150,3))\n",
        "    base = base_model(inputs, training= False)\n",
        "    vectors = keras.layers.GlobalAveragePooling2D()(base)\n",
        "\n",
        "    outputs = keras.layers.Dense(10)(vectors)\n",
        "\n",
        "    model= keras.Model(inputs, outputs)\n",
        "    \n",
        "    ################################################\n",
        "    \n",
        "    optimizer = keras.optimizers.Adam(learning_rate=learning_rate)\n",
        "    \n",
        "    loss = keras.losses.CategoricalCrossentropy(from_logits=True)\n",
        "    \n",
        "    model.compile(\n",
        "        optimizer=optimizer,\n",
        "        loss=loss,\n",
        "        metrics=['accuracy']\n",
        "    )\n",
        "    \n",
        "    return model"
      ],
      "metadata": {
        "id": "h-Ks6OtEUeRe"
      },
      "execution_count": 36,
      "outputs": []
    },
    {
      "cell_type": "code",
      "source": [
        "scores = {}\n",
        "for lr in [0.0001, 0.001, 0.01, 0.1]:\n",
        "    print(lr)\n",
        "    \n",
        "    model = make_model(learning_rate=lr)\n",
        "    history = model.fit(train_ds, epochs=10, validation_data=val_ds)\n",
        "    scores[lr] = history.history\n",
        "    \n",
        "    print()\n",
        "    print()"
      ],
      "metadata": {
        "colab": {
          "base_uri": "https://localhost:8080/"
        },
        "id": "m9IUkfxoJ6Jt",
        "outputId": "ecc19308-dd57-497b-ac16-cbb006ccb99d"
      },
      "execution_count": 37,
      "outputs": [
        {
          "output_type": "stream",
          "name": "stdout",
          "text": [
            "0.0001\n",
            "Epoch 1/10\n",
            "96/96 [==============================] - 17s 155ms/step - loss: 1.9575 - accuracy: 0.3468 - val_loss: 1.6343 - val_accuracy: 0.4692\n",
            "Epoch 2/10\n",
            "96/96 [==============================] - 14s 145ms/step - loss: 1.4113 - accuracy: 0.5538 - val_loss: 1.2763 - val_accuracy: 0.5806\n",
            "Epoch 3/10\n",
            "96/96 [==============================] - 14s 144ms/step - loss: 1.1612 - accuracy: 0.6307 - val_loss: 1.0902 - val_accuracy: 0.6716\n",
            "Epoch 4/10\n",
            "96/96 [==============================] - 15s 151ms/step - loss: 1.0161 - accuracy: 0.6744 - val_loss: 0.9726 - val_accuracy: 0.7097\n",
            "Epoch 5/10\n",
            "96/96 [==============================] - 14s 142ms/step - loss: 0.9207 - accuracy: 0.7063 - val_loss: 0.9009 - val_accuracy: 0.7185\n",
            "Epoch 6/10\n",
            "96/96 [==============================] - 14s 141ms/step - loss: 0.8496 - accuracy: 0.7226 - val_loss: 0.8490 - val_accuracy: 0.7419\n",
            "Epoch 7/10\n",
            "96/96 [==============================] - 14s 142ms/step - loss: 0.7966 - accuracy: 0.7399 - val_loss: 0.8063 - val_accuracy: 0.7507\n",
            "Epoch 8/10\n",
            "96/96 [==============================] - 14s 142ms/step - loss: 0.7517 - accuracy: 0.7595 - val_loss: 0.7728 - val_accuracy: 0.7595\n",
            "Epoch 9/10\n",
            "96/96 [==============================] - 14s 142ms/step - loss: 0.7148 - accuracy: 0.7676 - val_loss: 0.7472 - val_accuracy: 0.7566\n",
            "Epoch 10/10\n",
            "96/96 [==============================] - 14s 142ms/step - loss: 0.6843 - accuracy: 0.7777 - val_loss: 0.7281 - val_accuracy: 0.7713\n",
            "\n",
            "\n",
            "0.001\n",
            "Epoch 1/10\n",
            "96/96 [==============================] - 22s 203ms/step - loss: 1.1066 - accuracy: 0.6265 - val_loss: 0.7043 - val_accuracy: 0.8065\n",
            "Epoch 2/10\n",
            "96/96 [==============================] - 15s 154ms/step - loss: 0.6294 - accuracy: 0.7875 - val_loss: 0.6242 - val_accuracy: 0.8094\n",
            "Epoch 3/10\n",
            "96/96 [==============================] - 14s 144ms/step - loss: 0.5081 - accuracy: 0.8341 - val_loss: 0.5772 - val_accuracy: 0.8211\n",
            "Epoch 4/10\n",
            "96/96 [==============================] - 14s 145ms/step - loss: 0.4285 - accuracy: 0.8644 - val_loss: 0.5578 - val_accuracy: 0.8358\n",
            "Epoch 5/10\n",
            "96/96 [==============================] - 15s 153ms/step - loss: 0.3747 - accuracy: 0.8853 - val_loss: 0.5344 - val_accuracy: 0.8387\n",
            "Epoch 6/10\n",
            "96/96 [==============================] - 14s 145ms/step - loss: 0.3259 - accuracy: 0.9094 - val_loss: 0.5307 - val_accuracy: 0.8328\n",
            "Epoch 7/10\n",
            "96/96 [==============================] - 14s 145ms/step - loss: 0.2883 - accuracy: 0.9241 - val_loss: 0.5340 - val_accuracy: 0.8358\n",
            "Epoch 8/10\n",
            "96/96 [==============================] - 14s 144ms/step - loss: 0.2602 - accuracy: 0.9332 - val_loss: 0.5283 - val_accuracy: 0.8446\n",
            "Epoch 9/10\n",
            "96/96 [==============================] - 14s 141ms/step - loss: 0.2354 - accuracy: 0.9420 - val_loss: 0.5278 - val_accuracy: 0.8328\n",
            "Epoch 10/10\n",
            "96/96 [==============================] - 14s 142ms/step - loss: 0.2123 - accuracy: 0.9488 - val_loss: 0.5331 - val_accuracy: 0.8299\n",
            "\n",
            "\n",
            "0.01\n",
            "Epoch 1/10\n",
            "96/96 [==============================] - 18s 160ms/step - loss: 1.3698 - accuracy: 0.6604 - val_loss: 0.8293 - val_accuracy: 0.7771\n",
            "Epoch 2/10\n",
            "96/96 [==============================] - 14s 142ms/step - loss: 0.5238 - accuracy: 0.8334 - val_loss: 0.9720 - val_accuracy: 0.7625\n",
            "Epoch 3/10\n",
            "96/96 [==============================] - 14s 142ms/step - loss: 0.4609 - accuracy: 0.8553 - val_loss: 0.8300 - val_accuracy: 0.8006\n",
            "Epoch 4/10\n",
            "96/96 [==============================] - 14s 142ms/step - loss: 0.2634 - accuracy: 0.9140 - val_loss: 0.7929 - val_accuracy: 0.8240\n",
            "Epoch 5/10\n",
            "96/96 [==============================] - 14s 142ms/step - loss: 0.1628 - accuracy: 0.9446 - val_loss: 0.7748 - val_accuracy: 0.8065\n",
            "Epoch 6/10\n",
            "96/96 [==============================] - 14s 142ms/step - loss: 0.0992 - accuracy: 0.9674 - val_loss: 0.8060 - val_accuracy: 0.8006\n",
            "Epoch 7/10\n",
            "96/96 [==============================] - 14s 143ms/step - loss: 0.1048 - accuracy: 0.9632 - val_loss: 0.9281 - val_accuracy: 0.8065\n",
            "Epoch 8/10\n",
            "96/96 [==============================] - 14s 141ms/step - loss: 0.0584 - accuracy: 0.9824 - val_loss: 0.7917 - val_accuracy: 0.8240\n",
            "Epoch 9/10\n",
            "96/96 [==============================] - 14s 142ms/step - loss: 0.0390 - accuracy: 0.9905 - val_loss: 0.8413 - val_accuracy: 0.8094\n",
            "Epoch 10/10\n",
            "96/96 [==============================] - 14s 150ms/step - loss: 0.0239 - accuracy: 0.9958 - val_loss: 0.8465 - val_accuracy: 0.8123\n",
            "\n",
            "\n",
            "0.1\n",
            "Epoch 1/10\n",
            "96/96 [==============================] - 17s 155ms/step - loss: 10.9275 - accuracy: 0.6460 - val_loss: 6.6520 - val_accuracy: 0.7302\n",
            "Epoch 2/10\n",
            "96/96 [==============================] - 14s 143ms/step - loss: 4.8915 - accuracy: 0.7846 - val_loss: 8.3719 - val_accuracy: 0.7537\n",
            "Epoch 3/10\n",
            "96/96 [==============================] - 14s 144ms/step - loss: 4.4759 - accuracy: 0.8149 - val_loss: 8.9596 - val_accuracy: 0.7302\n",
            "Epoch 4/10\n",
            "96/96 [==============================] - 14s 143ms/step - loss: 2.9296 - accuracy: 0.8605 - val_loss: 9.9864 - val_accuracy: 0.7361\n",
            "Epoch 5/10\n",
            "96/96 [==============================] - 14s 144ms/step - loss: 2.5788 - accuracy: 0.8804 - val_loss: 14.1578 - val_accuracy: 0.6921\n",
            "Epoch 6/10\n",
            "96/96 [==============================] - 14s 143ms/step - loss: 1.9193 - accuracy: 0.9042 - val_loss: 8.7407 - val_accuracy: 0.8035\n",
            "Epoch 7/10\n",
            "96/96 [==============================] - 14s 145ms/step - loss: 1.5279 - accuracy: 0.9172 - val_loss: 10.8484 - val_accuracy: 0.7625\n",
            "Epoch 8/10\n",
            "96/96 [==============================] - 15s 153ms/step - loss: 1.6518 - accuracy: 0.9188 - val_loss: 10.4012 - val_accuracy: 0.7566\n",
            "Epoch 9/10\n",
            "96/96 [==============================] - 14s 141ms/step - loss: 1.1542 - accuracy: 0.9371 - val_loss: 10.3423 - val_accuracy: 0.8006\n",
            "Epoch 10/10\n",
            "96/96 [==============================] - 14s 143ms/step - loss: 1.1279 - accuracy: 0.9407 - val_loss: 10.5587 - val_accuracy: 0.7947\n",
            "\n",
            "\n"
          ]
        }
      ]
    },
    {
      "cell_type": "code",
      "source": [
        "del scores[0.1]\n",
        "del scores[0.0001]"
      ],
      "metadata": {
        "id": "-_PhNVvpRIzj"
      },
      "execution_count": 38,
      "outputs": []
    },
    {
      "cell_type": "code",
      "source": [
        "for lr, hist in scores.items():\n",
        "    #plt.plot(hist['accuracy'], label=('train=%s' % lr))\n",
        "    plt.plot(hist['val_accuracy'], label=('val=%s' % lr))\n",
        "    \n",
        "plt.xticks(np.arange(10))\n",
        "plt.legend()"
      ],
      "metadata": {
        "colab": {
          "base_uri": "https://localhost:8080/",
          "height": 282
        },
        "id": "gn0qLgkyJ7ji",
        "outputId": "6aabdee8-5cb4-4034-b848-193089c64bee"
      },
      "execution_count": 39,
      "outputs": [
        {
          "output_type": "execute_result",
          "data": {
            "text/plain": [
              "<matplotlib.legend.Legend at 0x7f9cff5edfd0>"
            ]
          },
          "metadata": {},
          "execution_count": 39
        },
        {
          "output_type": "display_data",
          "data": {
            "text/plain": [
              "<Figure size 432x288 with 1 Axes>"
            ],
            "image/png": "[encoded data removed]"
          },
          "metadata": {
            "needs_background": "light"
          }
        }
      ]
    },
    {
      "cell_type": "code",
      "source": [
        "learning_rate = 0.01"
      ],
      "metadata": {
        "id": "3Q5BU0q1J-pr"
      },
      "execution_count": 40,
      "outputs": []
    },
    {
      "cell_type": "markdown",
      "source": [
        "Checkpointin"
      ],
      "metadata": {
        "id": "jNlBGoxHKUNr"
      }
    },
    {
      "cell_type": "code",
      "source": [
        "model.save_weights('model_v1.h5', save_format='h5')"
      ],
      "metadata": {
        "id": "rWq6qRz_KWZ5"
      },
      "execution_count": 41,
      "outputs": []
    },
    {
      "cell_type": "code",
      "source": [
        "checkpoint = keras.callbacks.ModelCheckpoint(\n",
        "    'xception_v1_{epoch:02d}_{val_accuracy:.3f}.h5',\n",
        "    save_best_only=True,\n",
        "    monitor='val_accuracy',\n",
        "    mode='max'\n",
        ")"
      ],
      "metadata": {
        "id": "-7ipZnmEKZgT"
      },
      "execution_count": 42,
      "outputs": []
    },
    {
      "cell_type": "code",
      "source": [
        "model = make_model(learning_rate=learning_rate)\n",
        "history = model.fit(\n",
        "    train_ds,\n",
        "    epochs=10,\n",
        "    validation_data=val_ds,\n",
        "    callbacks=[checkpoint]\n",
        ")"
      ],
      "metadata": {
        "colab": {
          "base_uri": "https://localhost:8080/"
        },
        "id": "e1LbUU3YKbL-",
        "outputId": "3f4fae05-f7ce-41d9-ce59-99034f21690d"
      },
      "execution_count": 43,
      "outputs": [
        {
          "output_type": "stream",
          "name": "stdout",
          "text": [
            "Epoch 1/10\n",
            "96/96 [==============================] - 17s 156ms/step - loss: 1.3338 - accuracy: 0.6701 - val_loss: 0.7781 - val_accuracy: 0.7947\n",
            "Epoch 2/10\n",
            "96/96 [==============================] - 14s 143ms/step - loss: 0.5295 - accuracy: 0.8250 - val_loss: 0.8599 - val_accuracy: 0.7801\n",
            "Epoch 3/10\n",
            "96/96 [==============================] - 14s 146ms/step - loss: 0.3519 - accuracy: 0.8836 - val_loss: 0.7697 - val_accuracy: 0.8094\n",
            "Epoch 4/10\n",
            "96/96 [==============================] - 14s 141ms/step - loss: 0.3211 - accuracy: 0.8918 - val_loss: 0.9762 - val_accuracy: 0.7771\n",
            "Epoch 5/10\n",
            "96/96 [==============================] - 14s 142ms/step - loss: 0.1802 - accuracy: 0.9371 - val_loss: 1.0298 - val_accuracy: 0.7859\n",
            "Epoch 6/10\n",
            "96/96 [==============================] - 14s 143ms/step - loss: 0.1342 - accuracy: 0.9511 - val_loss: 0.9452 - val_accuracy: 0.7830\n",
            "Epoch 7/10\n",
            "96/96 [==============================] - 15s 151ms/step - loss: 0.0816 - accuracy: 0.9713 - val_loss: 0.9385 - val_accuracy: 0.8006\n",
            "Epoch 8/10\n",
            "96/96 [==============================] - 14s 145ms/step - loss: 0.0440 - accuracy: 0.9889 - val_loss: 0.8951 - val_accuracy: 0.8270\n",
            "Epoch 9/10\n",
            "96/96 [==============================] - 14s 143ms/step - loss: 0.0299 - accuracy: 0.9954 - val_loss: 0.9147 - val_accuracy: 0.8035\n",
            "Epoch 10/10\n",
            "96/96 [==============================] - 14s 141ms/step - loss: 0.0196 - accuracy: 0.9977 - val_loss: 0.9674 - val_accuracy: 0.8006\n"
          ]
        }
      ]
    },
    {
      "cell_type": "code",
      "source": [
        "!ls"
      ],
      "metadata": {
        "colab": {
          "base_uri": "https://localhost:8080/"
        },
        "id": "0kWNB4x2SSZ8",
        "outputId": "538c2a4d-4af1-4328-d225-357d1a7fef30"
      },
      "execution_count": 44,
      "outputs": [
        {
          "output_type": "stream",
          "name": "stdout",
          "text": [
            "clothing-dataset-small\tsample_data\t\t xception_v1_03_0.809.h5\n",
            "model_v1.h5\t\txception_v1_01_0.795.h5  xception_v1_08_0.827.h5\n"
          ]
        }
      ]
    },
    {
      "cell_type": "markdown",
      "source": [
        "Adding more layers"
      ],
      "metadata": {
        "id": "562SinItKeb0"
      }
    },
    {
      "cell_type": "code",
      "source": [
        "def make_model(learning_rate = 0.01, size_inner=100):\n",
        "    base_model= Xception(\n",
        "    weights='imagenet',\n",
        "    include_top=False,\n",
        "    input_shape=(150,150,3)\n",
        "    )\n",
        "\n",
        "    base_model.trainable=False\n",
        "\n",
        "    ################################################\n",
        "    \n",
        "    inputs = keras.Input(shape=(150,150,3))\n",
        "    base = base_model(inputs, training= False)\n",
        "    vectors = keras.layers.GlobalAveragePooling2D()(base)\n",
        "    \n",
        "    inner = keras.layers.Dense(size_inner, activation='relu')(vectors)\n",
        "\n",
        "    outputs = keras.layers.Dense(10)(inner)\n",
        "\n",
        "    model= keras.Model(inputs, outputs)\n",
        "    \n",
        "    ################################################\n",
        "    \n",
        "    optimizer = keras.optimizers.Adam(learning_rate=learning_rate)\n",
        "    \n",
        "    loss = keras.losses.CategoricalCrossentropy(from_logits=True)\n",
        "    \n",
        "    model.compile(\n",
        "        optimizer=optimizer,\n",
        "        loss=loss,\n",
        "        metrics=['accuracy']\n",
        "    )\n",
        "    \n",
        "    return model"
      ],
      "metadata": {
        "id": "ENITQdBkKgAA"
      },
      "execution_count": 45,
      "outputs": []
    },
    {
      "cell_type": "code",
      "source": [
        "learning_rate = 0.001\n",
        "\n",
        "scores = {}\n",
        "\n",
        "for size in [10, 100, 10000]:\n",
        "    print(size)\n",
        "    \n",
        "    model = make_model(learning_rate=learning_rate, size_inner = size)\n",
        "    history = model.fit(train_ds, epochs=10, validation_data=val_ds)\n",
        "    scores[size] = history.history\n",
        "    \n",
        "    print()\n",
        "    print()"
      ],
      "metadata": {
        "id": "ZRkkEmdIKmIa",
        "colab": {
          "base_uri": "https://localhost:8080/"
        },
        "outputId": "63f6fb58-138c-4460-ae88-93ee3e9e1d46"
      },
      "execution_count": 46,
      "outputs": [
        {
          "output_type": "stream",
          "name": "stdout",
          "text": [
            "10\n",
            "Epoch 1/10\n",
            "96/96 [==============================] - 17s 150ms/step - loss: 1.4754 - accuracy: 0.4772 - val_loss: 1.1527 - val_accuracy: 0.6276\n",
            "Epoch 2/10\n",
            "96/96 [==============================] - 14s 141ms/step - loss: 0.9011 - accuracy: 0.7184 - val_loss: 0.8413 - val_accuracy: 0.7390\n",
            "Epoch 3/10\n",
            "96/96 [==============================] - 14s 144ms/step - loss: 0.6852 - accuracy: 0.7784 - val_loss: 0.7883 - val_accuracy: 0.7566\n",
            "Epoch 4/10\n",
            "96/96 [==============================] - 14s 141ms/step - loss: 0.5853 - accuracy: 0.8031 - val_loss: 0.6927 - val_accuracy: 0.7977\n",
            "Epoch 5/10\n",
            "96/96 [==============================] - 14s 141ms/step - loss: 0.4977 - accuracy: 0.8416 - val_loss: 0.6837 - val_accuracy: 0.7771\n",
            "Epoch 6/10\n",
            "96/96 [==============================] - 15s 152ms/step - loss: 0.4380 - accuracy: 0.8605 - val_loss: 0.6395 - val_accuracy: 0.8035\n",
            "Epoch 7/10\n",
            "96/96 [==============================] - 14s 141ms/step - loss: 0.3920 - accuracy: 0.8820 - val_loss: 0.6396 - val_accuracy: 0.7859\n",
            "Epoch 8/10\n",
            "96/96 [==============================] - 14s 142ms/step - loss: 0.3437 - accuracy: 0.8967 - val_loss: 0.6396 - val_accuracy: 0.7742\n",
            "Epoch 9/10\n",
            "96/96 [==============================] - 14s 143ms/step - loss: 0.3021 - accuracy: 0.9136 - val_loss: 0.6173 - val_accuracy: 0.7947\n",
            "Epoch 10/10\n",
            "96/96 [==============================] - 15s 154ms/step - loss: 0.2672 - accuracy: 0.9289 - val_loss: 0.6107 - val_accuracy: 0.7859\n",
            "\n",
            "\n",
            "100\n",
            "Epoch 1/10\n",
            "96/96 [==============================] - 17s 150ms/step - loss: 0.9361 - accuracy: 0.6662 - val_loss: 0.5904 - val_accuracy: 0.8240\n",
            "Epoch 2/10\n",
            "96/96 [==============================] - 14s 143ms/step - loss: 0.5011 - accuracy: 0.8259 - val_loss: 0.5757 - val_accuracy: 0.8094\n",
            "Epoch 3/10\n",
            "96/96 [==============================] - 14s 143ms/step - loss: 0.3558 - accuracy: 0.8856 - val_loss: 0.5696 - val_accuracy: 0.8006\n",
            "Epoch 4/10\n",
            "96/96 [==============================] - 14s 144ms/step - loss: 0.2653 - accuracy: 0.9185 - val_loss: 0.5147 - val_accuracy: 0.8328\n",
            "Epoch 5/10\n",
            "96/96 [==============================] - 14s 150ms/step - loss: 0.1778 - accuracy: 0.9563 - val_loss: 0.5392 - val_accuracy: 0.8123\n",
            "Epoch 6/10\n",
            "96/96 [==============================] - 14s 143ms/step - loss: 0.1359 - accuracy: 0.9645 - val_loss: 0.5483 - val_accuracy: 0.8358\n",
            "Epoch 7/10\n",
            "96/96 [==============================] - 14s 141ms/step - loss: 0.0917 - accuracy: 0.9847 - val_loss: 0.5621 - val_accuracy: 0.8270\n",
            "Epoch 8/10\n",
            "96/96 [==============================] - 14s 143ms/step - loss: 0.0665 - accuracy: 0.9902 - val_loss: 0.5773 - val_accuracy: 0.8358\n",
            "Epoch 9/10\n",
            "96/96 [==============================] - 14s 142ms/step - loss: 0.0484 - accuracy: 0.9964 - val_loss: 0.6237 - val_accuracy: 0.8123\n",
            "Epoch 10/10\n",
            "96/96 [==============================] - 14s 142ms/step - loss: 0.0329 - accuracy: 0.9987 - val_loss: 0.6166 - val_accuracy: 0.8358\n",
            "\n",
            "\n",
            "10000\n",
            "Epoch 1/10\n",
            "96/96 [==============================] - 17s 151ms/step - loss: 1.1961 - accuracy: 0.6731 - val_loss: 0.6592 - val_accuracy: 0.7771\n",
            "Epoch 2/10\n",
            "96/96 [==============================] - 14s 144ms/step - loss: 0.4872 - accuracy: 0.8246 - val_loss: 0.7191 - val_accuracy: 0.7713\n",
            "Epoch 3/10\n",
            "96/96 [==============================] - 14s 143ms/step - loss: 0.3113 - accuracy: 0.8846 - val_loss: 0.6262 - val_accuracy: 0.8299\n",
            "Epoch 4/10\n",
            "96/96 [==============================] - 15s 152ms/step - loss: 0.1901 - accuracy: 0.9371 - val_loss: 0.6880 - val_accuracy: 0.8152\n",
            "Epoch 5/10\n",
            "96/96 [==============================] - 14s 144ms/step - loss: 0.1139 - accuracy: 0.9622 - val_loss: 0.6559 - val_accuracy: 0.8270\n",
            "Epoch 6/10\n",
            "96/96 [==============================] - 14s 143ms/step - loss: 0.0615 - accuracy: 0.9834 - val_loss: 0.7768 - val_accuracy: 0.8035\n",
            "Epoch 7/10\n",
            "96/96 [==============================] - 14s 141ms/step - loss: 0.0403 - accuracy: 0.9905 - val_loss: 0.7981 - val_accuracy: 0.7889\n",
            "Epoch 8/10\n",
            "96/96 [==============================] - 14s 142ms/step - loss: 0.0133 - accuracy: 0.9990 - val_loss: 0.7604 - val_accuracy: 0.8123\n",
            "Epoch 9/10\n",
            "96/96 [==============================] - 14s 143ms/step - loss: 0.0052 - accuracy: 0.9997 - val_loss: 0.7828 - val_accuracy: 0.8035\n",
            "Epoch 10/10\n",
            "96/96 [==============================] - 14s 143ms/step - loss: 0.0088 - accuracy: 0.9987 - val_loss: 0.8226 - val_accuracy: 0.8035\n",
            "\n",
            "\n"
          ]
        }
      ]
    },
    {
      "cell_type": "code",
      "source": [
        "for size, hist in scores.items():\n",
        "    plt.plot(hist['val_accuracy'], label=('val=%s' % size))\n",
        "    \n",
        "plt.xticks(np.arange(10))\n",
        "plt.yticks([0.78, 0.8, 0.82, 0.825, 0.83])\n",
        "plt.legend()"
      ],
      "metadata": {
        "id": "lrUWsa6pKqJC",
        "colab": {
          "base_uri": "https://localhost:8080/",
          "height": 282
        },
        "outputId": "48127b62-38bf-4334-98ba-4587082f40d9"
      },
      "execution_count": 48,
      "outputs": [
        {
          "output_type": "execute_result",
          "data": {
            "text/plain": [
              "<matplotlib.legend.Legend at 0x7f9dd8061b90>"
            ]
          },
          "metadata": {},
          "execution_count": 48
        },
        {
          "output_type": "display_data",
          "data": {
            "text/plain": [
              "<Figure size 432x288 with 1 Axes>"
            ],
            "image/png": "[encoded data removed]"
          },
          "metadata": {
            "needs_background": "light"
          }
        }
      ]
    },
    {
      "cell_type": "markdown",
      "source": [
        "Regularization"
      ],
      "metadata": {
        "id": "zkxLASRjKr2r"
      }
    },
    {
      "cell_type": "code",
      "source": [
        "def make_model(learning_rate = 0.01, size_inner=100, droprate=0.5):\n",
        "    base_model= Xception(\n",
        "    weights='imagenet',\n",
        "    include_top=False,\n",
        "    input_shape=(150,150,3)\n",
        "    )\n",
        "\n",
        "    base_model.trainable=False\n",
        "\n",
        "    ################################################\n",
        "    \n",
        "    inputs = keras.Input(shape=(150,150,3))\n",
        "    base = base_model(inputs, training= False)\n",
        "    vectors = keras.layers.GlobalAveragePooling2D()(base)\n",
        "    \n",
        "    inner = keras.layers.Dense(size_inner, activation='relu')(vectors)\n",
        "    \n",
        "    drop = keras.layers.Dropout(droprate)(inner)\n",
        "\n",
        "    outputs = keras.layers.Dense(10)(drop)\n",
        "\n",
        "    model= keras.Model(inputs, outputs)\n",
        "    \n",
        "    ################################################\n",
        "    \n",
        "    optimizer = keras.optimizers.Adam(learning_rate=learning_rate)\n",
        "    \n",
        "    loss = keras.losses.CategoricalCrossentropy(from_logits=True)\n",
        "    \n",
        "    model.compile(\n",
        "        optimizer=optimizer,\n",
        "        loss=loss,\n",
        "        metrics=['accuracy']\n",
        "    )\n",
        "    \n",
        "    return model"
      ],
      "metadata": {
        "id": "LsLgOv9CKs2w"
      },
      "execution_count": 49,
      "outputs": []
    },
    {
      "cell_type": "code",
      "source": [
        "learning_rate = 0.001\n",
        "size=100\n",
        "\n",
        "scores = {}\n",
        "\n",
        "for droprate in [0.0, 0.2, 0.5, 0.8]:\n",
        "    print(droprate)\n",
        "    \n",
        "    model = make_model(\n",
        "        learning_rate=learning_rate,\n",
        "        size_inner = size,\n",
        "        droprate=droprate\n",
        "    )\n",
        "    \n",
        "    history = model.fit(train_ds, epochs=30, validation_data=val_ds)\n",
        "    scores[droprate] = history.history\n",
        "    \n",
        "    print()\n",
        "    print()"
      ],
      "metadata": {
        "id": "tTA5p4xIKx5k",
        "colab": {
          "base_uri": "https://localhost:8080/"
        },
        "outputId": "1eac9395-ba7d-4c0e-ff66-95ea86540b1d"
      },
      "execution_count": 50,
      "outputs": [
        {
          "output_type": "stream",
          "name": "stdout",
          "text": [
            "0.0\n",
            "Epoch 1/30\n",
            "96/96 [==============================] - 17s 152ms/step - loss: 0.9761 - accuracy: 0.6659 - val_loss: 0.6612 - val_accuracy: 0.7742\n",
            "Epoch 2/30\n",
            "96/96 [==============================] - 14s 144ms/step - loss: 0.5053 - accuracy: 0.8237 - val_loss: 0.6387 - val_accuracy: 0.7713\n",
            "Epoch 3/30\n",
            "96/96 [==============================] - 14s 144ms/step - loss: 0.3731 - accuracy: 0.8703 - val_loss: 0.6161 - val_accuracy: 0.7918\n",
            "Epoch 4/30\n",
            "96/96 [==============================] - 14s 143ms/step - loss: 0.2560 - accuracy: 0.9205 - val_loss: 0.6006 - val_accuracy: 0.7947\n",
            "Epoch 5/30\n",
            "96/96 [==============================] - 15s 153ms/step - loss: 0.1805 - accuracy: 0.9514 - val_loss: 0.6096 - val_accuracy: 0.8152\n",
            "Epoch 6/30\n",
            "96/96 [==============================] - 14s 144ms/step - loss: 0.1287 - accuracy: 0.9707 - val_loss: 0.6322 - val_accuracy: 0.7977\n",
            "Epoch 7/30\n",
            "96/96 [==============================] - 15s 159ms/step - loss: 0.0960 - accuracy: 0.9817 - val_loss: 0.6180 - val_accuracy: 0.8094\n",
            "Epoch 8/30\n",
            "96/96 [==============================] - 14s 143ms/step - loss: 0.0655 - accuracy: 0.9909 - val_loss: 0.6380 - val_accuracy: 0.8065\n",
            "Epoch 9/30\n",
            "96/96 [==============================] - 14s 144ms/step - loss: 0.0481 - accuracy: 0.9961 - val_loss: 0.6447 - val_accuracy: 0.8065\n",
            "Epoch 10/30\n",
            "96/96 [==============================] - 14s 143ms/step - loss: 0.0331 - accuracy: 0.9984 - val_loss: 0.6496 - val_accuracy: 0.8065\n",
            "Epoch 11/30\n",
            "96/96 [==============================] - 14s 144ms/step - loss: 0.0261 - accuracy: 0.9990 - val_loss: 0.6391 - val_accuracy: 0.8065\n",
            "Epoch 12/30\n",
            "96/96 [==============================] - 14s 141ms/step - loss: 0.0207 - accuracy: 0.9990 - val_loss: 0.6806 - val_accuracy: 0.8065\n",
            "Epoch 13/30\n",
            "96/96 [==============================] - 14s 143ms/step - loss: 0.0174 - accuracy: 0.9990 - val_loss: 0.6947 - val_accuracy: 0.8094\n",
            "Epoch 14/30\n",
            "96/96 [==============================] - 14s 151ms/step - loss: 0.0152 - accuracy: 0.9993 - val_loss: 0.7106 - val_accuracy: 0.8065\n",
            "Epoch 15/30\n",
            "96/96 [==============================] - 14s 144ms/step - loss: 0.0131 - accuracy: 0.9993 - val_loss: 0.6682 - val_accuracy: 0.8152\n",
            "Epoch 16/30\n",
            "96/96 [==============================] - 14s 143ms/step - loss: 0.0093 - accuracy: 0.9997 - val_loss: 0.7364 - val_accuracy: 0.8094\n",
            "Epoch 17/30\n",
            "96/96 [==============================] - 14s 144ms/step - loss: 0.0099 - accuracy: 0.9997 - val_loss: 0.6994 - val_accuracy: 0.8123\n",
            "Epoch 18/30\n",
            "96/96 [==============================] - 14s 144ms/step - loss: 0.0113 - accuracy: 0.9987 - val_loss: 0.7002 - val_accuracy: 0.8240\n",
            "Epoch 19/30\n",
            "96/96 [==============================] - 14s 141ms/step - loss: 0.0096 - accuracy: 0.9993 - val_loss: 0.7252 - val_accuracy: 0.8211\n",
            "Epoch 20/30\n",
            "96/96 [==============================] - 14s 142ms/step - loss: 0.0100 - accuracy: 0.9987 - val_loss: 0.7331 - val_accuracy: 0.8006\n",
            "Epoch 21/30\n",
            "96/96 [==============================] - 14s 142ms/step - loss: 0.0059 - accuracy: 0.9997 - val_loss: 0.7778 - val_accuracy: 0.8094\n",
            "Epoch 22/30\n",
            "96/96 [==============================] - 15s 154ms/step - loss: 0.0068 - accuracy: 0.9993 - val_loss: 0.7564 - val_accuracy: 0.8123\n",
            "Epoch 23/30\n",
            "96/96 [==============================] - 15s 156ms/step - loss: 0.0040 - accuracy: 0.9997 - val_loss: 0.7530 - val_accuracy: 0.8182\n",
            "Epoch 24/30\n",
            "96/96 [==============================] - 14s 142ms/step - loss: 0.0095 - accuracy: 0.9984 - val_loss: 0.8210 - val_accuracy: 0.8006\n",
            "Epoch 25/30\n",
            "96/96 [==============================] - 14s 143ms/step - loss: 0.0071 - accuracy: 0.9990 - val_loss: 0.7917 - val_accuracy: 0.8240\n",
            "Epoch 26/30\n",
            "96/96 [==============================] - 14s 144ms/step - loss: 0.0084 - accuracy: 0.9993 - val_loss: 0.7812 - val_accuracy: 0.8094\n",
            "Epoch 27/30\n",
            "96/96 [==============================] - 14s 141ms/step - loss: 0.0055 - accuracy: 0.9993 - val_loss: 0.7715 - val_accuracy: 0.8270\n",
            "Epoch 28/30\n",
            "96/96 [==============================] - 14s 145ms/step - loss: 0.0040 - accuracy: 0.9993 - val_loss: 0.8597 - val_accuracy: 0.8006\n",
            "Epoch 29/30\n",
            "96/96 [==============================] - 16s 170ms/step - loss: 0.0125 - accuracy: 0.9984 - val_loss: 0.8230 - val_accuracy: 0.8123\n",
            "Epoch 30/30\n",
            "96/96 [==============================] - 18s 182ms/step - loss: 0.0476 - accuracy: 0.9879 - val_loss: 1.2291 - val_accuracy: 0.7654\n",
            "\n",
            "\n",
            "0.2\n",
            "Epoch 1/30\n",
            "96/96 [==============================] - 18s 166ms/step - loss: 1.0800 - accuracy: 0.6281 - val_loss: 0.7379 - val_accuracy: 0.7331\n",
            "Epoch 2/30\n",
            "96/96 [==============================] - 14s 146ms/step - loss: 0.6235 - accuracy: 0.7839 - val_loss: 0.5660 - val_accuracy: 0.8035\n",
            "Epoch 3/30\n",
            "96/96 [==============================] - 14s 144ms/step - loss: 0.4619 - accuracy: 0.8484 - val_loss: 0.6411 - val_accuracy: 0.7654\n",
            "Epoch 4/30\n",
            "96/96 [==============================] - 14s 144ms/step - loss: 0.3740 - accuracy: 0.8765 - val_loss: 0.5690 - val_accuracy: 0.8123\n",
            "Epoch 5/30\n",
            "96/96 [==============================] - 16s 168ms/step - loss: 0.3009 - accuracy: 0.8986 - val_loss: 0.5502 - val_accuracy: 0.8123\n",
            "Epoch 6/30\n",
            "96/96 [==============================] - 18s 188ms/step - loss: 0.2425 - accuracy: 0.9224 - val_loss: 0.5536 - val_accuracy: 0.8123\n",
            "Epoch 7/30\n",
            "96/96 [==============================] - 14s 143ms/step - loss: 0.1938 - accuracy: 0.9377 - val_loss: 0.5348 - val_accuracy: 0.8240\n",
            "Epoch 8/30\n",
            "96/96 [==============================] - 14s 144ms/step - loss: 0.1520 - accuracy: 0.9544 - val_loss: 0.5207 - val_accuracy: 0.8182\n",
            "Epoch 9/30\n",
            "96/96 [==============================] - 14s 145ms/step - loss: 0.1290 - accuracy: 0.9641 - val_loss: 0.5405 - val_accuracy: 0.8152\n",
            "Epoch 10/30\n",
            "96/96 [==============================] - 14s 145ms/step - loss: 0.1063 - accuracy: 0.9707 - val_loss: 0.5626 - val_accuracy: 0.8299\n",
            "Epoch 11/30\n",
            "96/96 [==============================] - 14s 144ms/step - loss: 0.0840 - accuracy: 0.9801 - val_loss: 0.6074 - val_accuracy: 0.8182\n",
            "Epoch 12/30\n",
            "96/96 [==============================] - 14s 146ms/step - loss: 0.0687 - accuracy: 0.9879 - val_loss: 0.6096 - val_accuracy: 0.8123\n",
            "Epoch 13/30\n",
            "96/96 [==============================] - 19s 202ms/step - loss: 0.0585 - accuracy: 0.9866 - val_loss: 0.6310 - val_accuracy: 0.8270\n",
            "Epoch 14/30\n",
            "96/96 [==============================] - 15s 154ms/step - loss: 0.0519 - accuracy: 0.9899 - val_loss: 0.6291 - val_accuracy: 0.8182\n",
            "Epoch 15/30\n",
            "96/96 [==============================] - 14s 143ms/step - loss: 0.0498 - accuracy: 0.9909 - val_loss: 0.6738 - val_accuracy: 0.8065\n",
            "Epoch 16/30\n",
            "96/96 [==============================] - 14s 145ms/step - loss: 0.0586 - accuracy: 0.9831 - val_loss: 0.6531 - val_accuracy: 0.8211\n",
            "Epoch 17/30\n",
            "96/96 [==============================] - 20s 209ms/step - loss: 0.0426 - accuracy: 0.9899 - val_loss: 0.6251 - val_accuracy: 0.8504\n",
            "Epoch 18/30\n",
            "96/96 [==============================] - 19s 201ms/step - loss: 0.0286 - accuracy: 0.9964 - val_loss: 0.6384 - val_accuracy: 0.8152\n",
            "Epoch 19/30\n",
            "96/96 [==============================] - 16s 166ms/step - loss: 0.0278 - accuracy: 0.9958 - val_loss: 0.6657 - val_accuracy: 0.8211\n",
            "Epoch 20/30\n",
            "96/96 [==============================] - 15s 158ms/step - loss: 0.0252 - accuracy: 0.9958 - val_loss: 0.6780 - val_accuracy: 0.8211\n",
            "Epoch 21/30\n",
            "96/96 [==============================] - 15s 158ms/step - loss: 0.0248 - accuracy: 0.9954 - val_loss: 0.6653 - val_accuracy: 0.8240\n",
            "Epoch 22/30\n",
            "96/96 [==============================] - 17s 178ms/step - loss: 0.0224 - accuracy: 0.9958 - val_loss: 0.7214 - val_accuracy: 0.8182\n",
            "Epoch 23/30\n",
            "96/96 [==============================] - 17s 178ms/step - loss: 0.0247 - accuracy: 0.9938 - val_loss: 0.7081 - val_accuracy: 0.8123\n",
            "Epoch 24/30\n",
            "96/96 [==============================] - 16s 162ms/step - loss: 0.0279 - accuracy: 0.9948 - val_loss: 0.6998 - val_accuracy: 0.8211\n",
            "Epoch 25/30\n",
            "96/96 [==============================] - 18s 191ms/step - loss: 0.0228 - accuracy: 0.9958 - val_loss: 0.7070 - val_accuracy: 0.8182\n",
            "Epoch 26/30\n",
            "96/96 [==============================] - 14s 151ms/step - loss: 0.0154 - accuracy: 0.9977 - val_loss: 0.7497 - val_accuracy: 0.8211\n",
            "Epoch 27/30\n",
            "96/96 [==============================] - 14s 143ms/step - loss: 0.0155 - accuracy: 0.9971 - val_loss: 0.8809 - val_accuracy: 0.8006\n",
            "Epoch 28/30\n",
            "96/96 [==============================] - 14s 145ms/step - loss: 0.0218 - accuracy: 0.9945 - val_loss: 0.8024 - val_accuracy: 0.8211\n",
            "Epoch 29/30\n",
            "96/96 [==============================] - 14s 147ms/step - loss: 0.0254 - accuracy: 0.9935 - val_loss: 0.7239 - val_accuracy: 0.8152\n",
            "Epoch 30/30\n",
            "96/96 [==============================] - 15s 159ms/step - loss: 0.0243 - accuracy: 0.9935 - val_loss: 0.8038 - val_accuracy: 0.8035\n",
            "\n",
            "\n",
            "0.5\n",
            "Epoch 1/30\n",
            "96/96 [==============================] - 18s 161ms/step - loss: 1.2766 - accuracy: 0.5711 - val_loss: 0.7127 - val_accuracy: 0.7625\n",
            "Epoch 2/30\n",
            "96/96 [==============================] - 17s 176ms/step - loss: 0.8168 - accuracy: 0.7220 - val_loss: 0.6192 - val_accuracy: 0.8123\n",
            "Epoch 3/30\n",
            "96/96 [==============================] - 15s 157ms/step - loss: 0.6913 - accuracy: 0.7559 - val_loss: 0.5922 - val_accuracy: 0.8152\n",
            "Epoch 4/30\n",
            "96/96 [==============================] - 18s 190ms/step - loss: 0.5781 - accuracy: 0.7982 - val_loss: 0.5620 - val_accuracy: 0.8094\n",
            "Epoch 5/30\n",
            "96/96 [==============================] - 18s 187ms/step - loss: 0.5196 - accuracy: 0.8188 - val_loss: 0.5525 - val_accuracy: 0.8094\n",
            "Epoch 6/30\n",
            "96/96 [==============================] - 15s 155ms/step - loss: 0.4565 - accuracy: 0.8471 - val_loss: 0.5501 - val_accuracy: 0.8211\n",
            "Epoch 7/30\n",
            "96/96 [==============================] - 17s 174ms/step - loss: 0.3936 - accuracy: 0.8625 - val_loss: 0.6132 - val_accuracy: 0.7947\n",
            "Epoch 8/30\n",
            "96/96 [==============================] - 16s 166ms/step - loss: 0.3678 - accuracy: 0.8774 - val_loss: 0.5467 - val_accuracy: 0.8035\n",
            "Epoch 9/30\n",
            "96/96 [==============================] - 14s 143ms/step - loss: 0.3365 - accuracy: 0.8840 - val_loss: 0.5173 - val_accuracy: 0.8387\n",
            "Epoch 10/30\n",
            "96/96 [==============================] - 14s 147ms/step - loss: 0.2856 - accuracy: 0.9048 - val_loss: 0.5589 - val_accuracy: 0.8065\n",
            "Epoch 11/30\n",
            "96/96 [==============================] - 14s 144ms/step - loss: 0.2758 - accuracy: 0.9035 - val_loss: 0.5467 - val_accuracy: 0.8123\n",
            "Epoch 12/30\n",
            "96/96 [==============================] - 14s 143ms/step - loss: 0.2414 - accuracy: 0.9179 - val_loss: 0.5678 - val_accuracy: 0.8211\n",
            "Epoch 13/30\n",
            "96/96 [==============================] - 14s 144ms/step - loss: 0.2425 - accuracy: 0.9156 - val_loss: 0.5636 - val_accuracy: 0.8123\n",
            "Epoch 14/30\n",
            "96/96 [==============================] - 15s 152ms/step - loss: 0.2122 - accuracy: 0.9280 - val_loss: 0.5625 - val_accuracy: 0.8299\n",
            "Epoch 15/30\n",
            "96/96 [==============================] - 14s 143ms/step - loss: 0.1812 - accuracy: 0.9387 - val_loss: 0.5599 - val_accuracy: 0.8240\n",
            "Epoch 16/30\n",
            "96/96 [==============================] - 14s 142ms/step - loss: 0.1747 - accuracy: 0.9361 - val_loss: 0.5905 - val_accuracy: 0.8211\n",
            "Epoch 17/30\n",
            "96/96 [==============================] - 14s 144ms/step - loss: 0.1623 - accuracy: 0.9433 - val_loss: 0.5667 - val_accuracy: 0.8387\n",
            "Epoch 18/30\n",
            "96/96 [==============================] - 14s 147ms/step - loss: 0.1563 - accuracy: 0.9488 - val_loss: 0.6194 - val_accuracy: 0.8270\n",
            "Epoch 19/30\n",
            "96/96 [==============================] - 14s 144ms/step - loss: 0.1443 - accuracy: 0.9537 - val_loss: 0.6052 - val_accuracy: 0.8299\n",
            "Epoch 20/30\n",
            "96/96 [==============================] - 14s 141ms/step - loss: 0.1323 - accuracy: 0.9570 - val_loss: 0.6126 - val_accuracy: 0.8416\n",
            "Epoch 21/30\n",
            "96/96 [==============================] - 14s 143ms/step - loss: 0.1166 - accuracy: 0.9645 - val_loss: 0.6260 - val_accuracy: 0.8299\n",
            "Epoch 22/30\n",
            "96/96 [==============================] - 14s 144ms/step - loss: 0.1117 - accuracy: 0.9615 - val_loss: 0.6512 - val_accuracy: 0.8240\n",
            "Epoch 23/30\n",
            "96/96 [==============================] - 14s 142ms/step - loss: 0.1129 - accuracy: 0.9628 - val_loss: 0.6177 - val_accuracy: 0.8182\n",
            "Epoch 24/30\n",
            "96/96 [==============================] - 14s 143ms/step - loss: 0.1191 - accuracy: 0.9599 - val_loss: 0.7106 - val_accuracy: 0.8065\n",
            "Epoch 25/30\n",
            "96/96 [==============================] - 14s 146ms/step - loss: 0.1098 - accuracy: 0.9658 - val_loss: 0.6889 - val_accuracy: 0.8299\n",
            "Epoch 26/30\n",
            "96/96 [==============================] - 14s 143ms/step - loss: 0.0954 - accuracy: 0.9690 - val_loss: 0.6829 - val_accuracy: 0.8152\n",
            "Epoch 27/30\n",
            "96/96 [==============================] - 14s 150ms/step - loss: 0.1096 - accuracy: 0.9638 - val_loss: 0.6685 - val_accuracy: 0.8387\n",
            "Epoch 28/30\n",
            "96/96 [==============================] - 14s 144ms/step - loss: 0.1061 - accuracy: 0.9648 - val_loss: 0.6484 - val_accuracy: 0.8475\n",
            "Epoch 29/30\n",
            "96/96 [==============================] - 14s 144ms/step - loss: 0.0875 - accuracy: 0.9720 - val_loss: 0.7024 - val_accuracy: 0.8270\n",
            "Epoch 30/30\n",
            "96/96 [==============================] - 14s 144ms/step - loss: 0.0843 - accuracy: 0.9694 - val_loss: 0.7046 - val_accuracy: 0.8358\n",
            "\n",
            "\n",
            "0.8\n",
            "Epoch 1/30\n",
            "96/96 [==============================] - 17s 151ms/step - loss: 1.8103 - accuracy: 0.3778 - val_loss: 1.1987 - val_accuracy: 0.6246\n",
            "Epoch 2/30\n",
            "96/96 [==============================] - 14s 143ms/step - loss: 1.4072 - accuracy: 0.5111 - val_loss: 0.9161 - val_accuracy: 0.7126\n",
            "Epoch 3/30\n",
            "96/96 [==============================] - 14s 143ms/step - loss: 1.2717 - accuracy: 0.5515 - val_loss: 0.8422 - val_accuracy: 0.7595\n",
            "Epoch 4/30\n",
            "96/96 [==============================] - 14s 144ms/step - loss: 1.1878 - accuracy: 0.5717 - val_loss: 0.7783 - val_accuracy: 0.7595\n",
            "Epoch 5/30\n",
            "96/96 [==============================] - 14s 144ms/step - loss: 1.1152 - accuracy: 0.6079 - val_loss: 0.7343 - val_accuracy: 0.7801\n",
            "Epoch 6/30\n",
            "96/96 [==============================] - 15s 153ms/step - loss: 1.0646 - accuracy: 0.6167 - val_loss: 0.7319 - val_accuracy: 0.7566\n",
            "Epoch 7/30\n",
            "96/96 [==============================] - 14s 147ms/step - loss: 1.0278 - accuracy: 0.6255 - val_loss: 0.6921 - val_accuracy: 0.7713\n",
            "Epoch 8/30\n",
            "96/96 [==============================] - 14s 145ms/step - loss: 0.9810 - accuracy: 0.6408 - val_loss: 0.6810 - val_accuracy: 0.7830\n",
            "Epoch 9/30\n",
            "96/96 [==============================] - 14s 142ms/step - loss: 0.9522 - accuracy: 0.6375 - val_loss: 0.6884 - val_accuracy: 0.7830\n",
            "Epoch 10/30\n",
            "96/96 [==============================] - 14s 142ms/step - loss: 0.9253 - accuracy: 0.6532 - val_loss: 0.6631 - val_accuracy: 0.7947\n",
            "Epoch 11/30\n",
            "96/96 [==============================] - 14s 142ms/step - loss: 0.9103 - accuracy: 0.6633 - val_loss: 0.6348 - val_accuracy: 0.8035\n",
            "Epoch 12/30\n",
            "96/96 [==============================] - 14s 142ms/step - loss: 0.8818 - accuracy: 0.6666 - val_loss: 0.6259 - val_accuracy: 0.7859\n",
            "Epoch 13/30\n",
            "96/96 [==============================] - 14s 144ms/step - loss: 0.8589 - accuracy: 0.6679 - val_loss: 0.6436 - val_accuracy: 0.7918\n",
            "Epoch 14/30\n",
            "96/96 [==============================] - 14s 143ms/step - loss: 0.8743 - accuracy: 0.6653 - val_loss: 0.6120 - val_accuracy: 0.8035\n",
            "Epoch 15/30\n",
            "96/96 [==============================] - 15s 152ms/step - loss: 0.8324 - accuracy: 0.6763 - val_loss: 0.6187 - val_accuracy: 0.7830\n",
            "Epoch 16/30\n",
            "96/96 [==============================] - 14s 145ms/step - loss: 0.8124 - accuracy: 0.6890 - val_loss: 0.5961 - val_accuracy: 0.8035\n",
            "Epoch 17/30\n",
            "96/96 [==============================] - 14s 144ms/step - loss: 0.7736 - accuracy: 0.7066 - val_loss: 0.6072 - val_accuracy: 0.8035\n",
            "Epoch 18/30\n",
            "96/96 [==============================] - 14s 143ms/step - loss: 0.7825 - accuracy: 0.6936 - val_loss: 0.5828 - val_accuracy: 0.8123\n",
            "Epoch 19/30\n",
            "96/96 [==============================] - 14s 144ms/step - loss: 0.7376 - accuracy: 0.7031 - val_loss: 0.6189 - val_accuracy: 0.8065\n",
            "Epoch 20/30\n",
            "96/96 [==============================] - 14s 144ms/step - loss: 0.7263 - accuracy: 0.7187 - val_loss: 0.6131 - val_accuracy: 0.8152\n",
            "Epoch 21/30\n",
            "96/96 [==============================] - 14s 145ms/step - loss: 0.7304 - accuracy: 0.7194 - val_loss: 0.6120 - val_accuracy: 0.7947\n",
            "Epoch 22/30\n",
            "96/96 [==============================] - 14s 146ms/step - loss: 0.7178 - accuracy: 0.7161 - val_loss: 0.5872 - val_accuracy: 0.8035\n",
            "Epoch 23/30\n",
            "96/96 [==============================] - 15s 152ms/step - loss: 0.7045 - accuracy: 0.7265 - val_loss: 0.6063 - val_accuracy: 0.7947\n",
            "Epoch 24/30\n",
            "96/96 [==============================] - 14s 143ms/step - loss: 0.7137 - accuracy: 0.7122 - val_loss: 0.5887 - val_accuracy: 0.8065\n",
            "Epoch 25/30\n",
            "96/96 [==============================] - 14s 143ms/step - loss: 0.6800 - accuracy: 0.7291 - val_loss: 0.6227 - val_accuracy: 0.7859\n",
            "Epoch 26/30\n",
            "96/96 [==============================] - 14s 142ms/step - loss: 0.6796 - accuracy: 0.7265 - val_loss: 0.5884 - val_accuracy: 0.8065\n",
            "Epoch 27/30\n",
            "96/96 [==============================] - 14s 143ms/step - loss: 0.6792 - accuracy: 0.7314 - val_loss: 0.5951 - val_accuracy: 0.8065\n",
            "Epoch 28/30\n",
            "96/96 [==============================] - 14s 142ms/step - loss: 0.6565 - accuracy: 0.7445 - val_loss: 0.6004 - val_accuracy: 0.8123\n",
            "Epoch 29/30\n",
            "96/96 [==============================] - 14s 143ms/step - loss: 0.6545 - accuracy: 0.7428 - val_loss: 0.5919 - val_accuracy: 0.8094\n",
            "Epoch 30/30\n",
            "96/96 [==============================] - 14s 145ms/step - loss: 0.6482 - accuracy: 0.7451 - val_loss: 0.5790 - val_accuracy: 0.8152\n",
            "\n",
            "\n"
          ]
        }
      ]
    },
    {
      "cell_type": "code",
      "source": [
        "for droprate, hist in scores.items():\n",
        "    plt.plot(hist['val_accuracy'], label=('val=%s' % droprate))\n",
        "\n",
        "plt.legend()"
      ],
      "metadata": {
        "id": "-ajWwz_jK0ar",
        "colab": {
          "base_uri": "https://localhost:8080/",
          "height": 282
        },
        "outputId": "82a52e2f-773d-4c38-d28e-0011f083be0d"
      },
      "execution_count": 51,
      "outputs": [
        {
          "output_type": "execute_result",
          "data": {
            "text/plain": [
              "<matplotlib.legend.Legend at 0x7f9b617bfb90>"
            ]
          },
          "metadata": {},
          "execution_count": 51
        },
        {
          "output_type": "display_data",
          "data": {
            "text/plain": [
              "<Figure size 432x288 with 1 Axes>"
            ],
            "image/png": "[encoded data removed]"
          },
          "metadata": {
            "needs_background": "light"
          }
        }
      ]
    },
    {
      "cell_type": "code",
      "source": [
        "droprate = 0.2"
      ],
      "metadata": {
        "id": "fz2lCRrXK2yK"
      },
      "execution_count": 53,
      "outputs": []
    },
    {
      "cell_type": "markdown",
      "source": [
        "Data Augmentation"
      ],
      "metadata": {
        "id": "Fla8WiadK4gj"
      }
    },
    {
      "cell_type": "code",
      "source": [
        "train_gen = ImageDataGenerator(\n",
        "    preprocessing_function=preprocess_input,\n",
        "    shear_range=10.0,\n",
        "    zoom_range=0.1,\n",
        "    vertical_flip=True    \n",
        ")\n",
        "\n",
        "train_ds = train_gen.flow_from_directory(\n",
        "    './clothing-dataset-small/train',\n",
        "    target_size=(150,150),\n",
        "    batch_size=32\n",
        ")\n",
        "\n",
        "val_gen = ImageDataGenerator(preprocessing_function=preprocess_input)\n",
        "\n",
        "val_ds = val_gen.flow_from_directory(\n",
        "    './clothing-dataset-small/validation/',\n",
        "    target_size=(150,150),\n",
        "    batch_size=32,\n",
        "    shuffle=False\n",
        ")"
      ],
      "metadata": {
        "colab": {
          "base_uri": "https://localhost:8080/"
        },
        "id": "mOZNtABRK5yh",
        "outputId": "ad8cea28-69cd-4401-e1c2-3a76b5dfd5a5"
      },
      "execution_count": 54,
      "outputs": [
        {
          "output_type": "stream",
          "name": "stdout",
          "text": [
            "Found 3068 images belonging to 10 classes.\n",
            "Found 341 images belonging to 10 classes.\n"
          ]
        }
      ]
    },
    {
      "cell_type": "code",
      "source": [
        "learning_rate = 0.001\n",
        "size=100\n",
        "droprate = 0.2\n",
        "\n",
        "model = make_model(\n",
        "    learning_rate=learning_rate,\n",
        "    size_inner=size,\n",
        "    droprate=droprate\n",
        ")\n",
        "\n",
        "history = model.fit(train_ds, epochs=50, validation_data=val_ds)"
      ],
      "metadata": {
        "colab": {
          "base_uri": "https://localhost:8080/"
        },
        "id": "ZTkwGEbzK82D",
        "outputId": "7d875b4a-b68c-4fc6-d358-35f442c58069"
      },
      "execution_count": 55,
      "outputs": [
        {
          "output_type": "stream",
          "name": "stdout",
          "text": [
            "Epoch 1/50\n",
            "96/96 [==============================] - 31s 295ms/step - loss: 1.2752 - accuracy: 0.5821 - val_loss: 0.7405 - val_accuracy: 0.7625\n",
            "Epoch 2/50\n",
            "96/96 [==============================] - 28s 296ms/step - loss: 0.8922 - accuracy: 0.6975 - val_loss: 0.6847 - val_accuracy: 0.7537\n",
            "Epoch 3/50\n",
            "96/96 [==============================] - 27s 284ms/step - loss: 0.7696 - accuracy: 0.7422 - val_loss: 0.6634 - val_accuracy: 0.7713\n",
            "Epoch 4/50\n",
            "96/96 [==============================] - 28s 288ms/step - loss: 0.6789 - accuracy: 0.7689 - val_loss: 0.6043 - val_accuracy: 0.7947\n",
            "Epoch 5/50\n",
            "96/96 [==============================] - 27s 284ms/step - loss: 0.6564 - accuracy: 0.7784 - val_loss: 0.6377 - val_accuracy: 0.7801\n",
            "Epoch 6/50\n",
            "96/96 [==============================] - 28s 294ms/step - loss: 0.5928 - accuracy: 0.7966 - val_loss: 0.5785 - val_accuracy: 0.8094\n",
            "Epoch 7/50\n",
            "96/96 [==============================] - 27s 284ms/step - loss: 0.5612 - accuracy: 0.7999 - val_loss: 0.5902 - val_accuracy: 0.8094\n",
            "Epoch 8/50\n",
            "96/96 [==============================] - 27s 279ms/step - loss: 0.5238 - accuracy: 0.8158 - val_loss: 0.6490 - val_accuracy: 0.7654\n",
            "Epoch 9/50\n",
            "96/96 [==============================] - 27s 281ms/step - loss: 0.4922 - accuracy: 0.8295 - val_loss: 0.6854 - val_accuracy: 0.7771\n",
            "Epoch 10/50\n",
            "96/96 [==============================] - 27s 284ms/step - loss: 0.4744 - accuracy: 0.8325 - val_loss: 0.6262 - val_accuracy: 0.7918\n",
            "Epoch 11/50\n",
            "96/96 [==============================] - 29s 300ms/step - loss: 0.4497 - accuracy: 0.8550 - val_loss: 0.5968 - val_accuracy: 0.8094\n",
            "Epoch 12/50\n",
            "96/96 [==============================] - 27s 280ms/step - loss: 0.4342 - accuracy: 0.8501 - val_loss: 0.5712 - val_accuracy: 0.8123\n",
            "Epoch 13/50\n",
            "96/96 [==============================] - 27s 282ms/step - loss: 0.4175 - accuracy: 0.8481 - val_loss: 0.6373 - val_accuracy: 0.7859\n",
            "Epoch 14/50\n",
            "96/96 [==============================] - 27s 281ms/step - loss: 0.3667 - accuracy: 0.8706 - val_loss: 0.6009 - val_accuracy: 0.8035\n",
            "Epoch 15/50\n",
            "96/96 [==============================] - 28s 291ms/step - loss: 0.3606 - accuracy: 0.8703 - val_loss: 0.5850 - val_accuracy: 0.8152\n",
            "Epoch 16/50\n",
            "96/96 [==============================] - 27s 279ms/step - loss: 0.3283 - accuracy: 0.8849 - val_loss: 0.5842 - val_accuracy: 0.8094\n",
            "Epoch 17/50\n",
            "96/96 [==============================] - 27s 277ms/step - loss: 0.3306 - accuracy: 0.8856 - val_loss: 0.6207 - val_accuracy: 0.8006\n",
            "Epoch 18/50\n",
            "96/96 [==============================] - 27s 279ms/step - loss: 0.3136 - accuracy: 0.8895 - val_loss: 0.6133 - val_accuracy: 0.7830\n",
            "Epoch 19/50\n",
            "96/96 [==============================] - 28s 289ms/step - loss: 0.3141 - accuracy: 0.8846 - val_loss: 0.5712 - val_accuracy: 0.8240\n",
            "Epoch 20/50\n",
            "96/96 [==============================] - 27s 282ms/step - loss: 0.2947 - accuracy: 0.8950 - val_loss: 0.6099 - val_accuracy: 0.8065\n",
            "Epoch 21/50\n",
            "96/96 [==============================] - 27s 278ms/step - loss: 0.3049 - accuracy: 0.8941 - val_loss: 0.5972 - val_accuracy: 0.8299\n",
            "Epoch 22/50\n",
            "96/96 [==============================] - 27s 278ms/step - loss: 0.2795 - accuracy: 0.9068 - val_loss: 0.6069 - val_accuracy: 0.8152\n",
            "Epoch 23/50\n",
            "96/96 [==============================] - 27s 282ms/step - loss: 0.2592 - accuracy: 0.9097 - val_loss: 0.6147 - val_accuracy: 0.8123\n",
            "Epoch 24/50\n",
            "96/96 [==============================] - 28s 289ms/step - loss: 0.2475 - accuracy: 0.9078 - val_loss: 0.5784 - val_accuracy: 0.7977\n",
            "Epoch 25/50\n",
            "96/96 [==============================] - 27s 279ms/step - loss: 0.2493 - accuracy: 0.9172 - val_loss: 0.6413 - val_accuracy: 0.8123\n",
            "Epoch 26/50\n",
            "96/96 [==============================] - 27s 279ms/step - loss: 0.2275 - accuracy: 0.9214 - val_loss: 0.5939 - val_accuracy: 0.8182\n",
            "Epoch 27/50\n",
            "96/96 [==============================] - 27s 280ms/step - loss: 0.2370 - accuracy: 0.9208 - val_loss: 0.6441 - val_accuracy: 0.8299\n",
            "Epoch 28/50\n",
            "96/96 [==============================] - 27s 286ms/step - loss: 0.2349 - accuracy: 0.9198 - val_loss: 0.6229 - val_accuracy: 0.8211\n",
            "Epoch 29/50\n",
            "96/96 [==============================] - 27s 280ms/step - loss: 0.2244 - accuracy: 0.9218 - val_loss: 0.5811 - val_accuracy: 0.8328\n",
            "Epoch 30/50\n",
            "96/96 [==============================] - 27s 281ms/step - loss: 0.2119 - accuracy: 0.9302 - val_loss: 0.6259 - val_accuracy: 0.8299\n",
            "Epoch 31/50\n",
            "96/96 [==============================] - 27s 281ms/step - loss: 0.2134 - accuracy: 0.9211 - val_loss: 0.6445 - val_accuracy: 0.8065\n",
            "Epoch 32/50\n",
            "96/96 [==============================] - 27s 283ms/step - loss: 0.2005 - accuracy: 0.9351 - val_loss: 0.6726 - val_accuracy: 0.7977\n",
            "Epoch 33/50\n",
            "96/96 [==============================] - 27s 280ms/step - loss: 0.2265 - accuracy: 0.9241 - val_loss: 0.7116 - val_accuracy: 0.7918\n",
            "Epoch 34/50\n",
            "96/96 [==============================] - 27s 277ms/step - loss: 0.2113 - accuracy: 0.9244 - val_loss: 0.6637 - val_accuracy: 0.8299\n",
            "Epoch 35/50\n",
            "96/96 [==============================] - 27s 279ms/step - loss: 0.1972 - accuracy: 0.9338 - val_loss: 0.6629 - val_accuracy: 0.8182\n",
            "Epoch 36/50\n",
            "96/96 [==============================] - 27s 280ms/step - loss: 0.1760 - accuracy: 0.9390 - val_loss: 0.6672 - val_accuracy: 0.8211\n",
            "Epoch 37/50\n",
            "96/96 [==============================] - 28s 288ms/step - loss: 0.1771 - accuracy: 0.9390 - val_loss: 0.6846 - val_accuracy: 0.8211\n",
            "Epoch 38/50\n",
            "96/96 [==============================] - 27s 279ms/step - loss: 0.1777 - accuracy: 0.9368 - val_loss: 0.6960 - val_accuracy: 0.8006\n",
            "Epoch 39/50\n",
            "96/96 [==============================] - 27s 279ms/step - loss: 0.1582 - accuracy: 0.9449 - val_loss: 0.6622 - val_accuracy: 0.8270\n",
            "Epoch 40/50\n",
            "96/96 [==============================] - 27s 279ms/step - loss: 0.1741 - accuracy: 0.9404 - val_loss: 0.6845 - val_accuracy: 0.7977\n",
            "Epoch 41/50\n",
            "96/96 [==============================] - 27s 278ms/step - loss: 0.1675 - accuracy: 0.9397 - val_loss: 0.7490 - val_accuracy: 0.7977\n",
            "Epoch 42/50\n",
            "96/96 [==============================] - 28s 288ms/step - loss: 0.1593 - accuracy: 0.9436 - val_loss: 0.6935 - val_accuracy: 0.7977\n",
            "Epoch 43/50\n",
            "96/96 [==============================] - 27s 279ms/step - loss: 0.1715 - accuracy: 0.9374 - val_loss: 0.7028 - val_accuracy: 0.8065\n",
            "Epoch 44/50\n",
            "96/96 [==============================] - 27s 279ms/step - loss: 0.1559 - accuracy: 0.9446 - val_loss: 0.7020 - val_accuracy: 0.8182\n",
            "Epoch 45/50\n",
            "96/96 [==============================] - 27s 279ms/step - loss: 0.1612 - accuracy: 0.9430 - val_loss: 0.7050 - val_accuracy: 0.8152\n",
            "Epoch 46/50\n",
            "96/96 [==============================] - 28s 287ms/step - loss: 0.1666 - accuracy: 0.9426 - val_loss: 0.7516 - val_accuracy: 0.8152\n",
            "Epoch 47/50\n",
            "96/96 [==============================] - 27s 278ms/step - loss: 0.1564 - accuracy: 0.9469 - val_loss: 0.6815 - val_accuracy: 0.8211\n",
            "Epoch 48/50\n",
            "96/96 [==============================] - 28s 291ms/step - loss: 0.1625 - accuracy: 0.9417 - val_loss: 0.7292 - val_accuracy: 0.8182\n",
            "Epoch 49/50\n",
            "96/96 [==============================] - 27s 279ms/step - loss: 0.1549 - accuracy: 0.9485 - val_loss: 0.7523 - val_accuracy: 0.7889\n",
            "Epoch 50/50\n",
            "96/96 [==============================] - 27s 278ms/step - loss: 0.1521 - accuracy: 0.9469 - val_loss: 0.7553 - val_accuracy: 0.8123\n"
          ]
        }
      ]
    },
    {
      "cell_type": "code",
      "source": [
        "hist=history.history\n",
        "plt.plot(hist['val_accuracy'], label='val')\n",
        "plt.plot(hist['accuracy'], label='train')\n",
        "\n",
        "plt.legend()"
      ],
      "metadata": {
        "colab": {
          "base_uri": "https://localhost:8080/",
          "height": 282
        },
        "id": "Mdn6l0HWK_2A",
        "outputId": "33144db8-2402-4a48-8a2e-e81a71355af9"
      },
      "execution_count": 56,
      "outputs": [
        {
          "output_type": "execute_result",
          "data": {
            "text/plain": [
              "<matplotlib.legend.Legend at 0x7f9c660a8450>"
            ]
          },
          "metadata": {},
          "execution_count": 56
        },
        {
          "output_type": "display_data",
          "data": {
            "text/plain": [
              "<Figure size 432x288 with 1 Axes>"
            ],
            "image/png": "[encoded data removed]"
          },
          "metadata": {
            "needs_background": "light"
          }
        }
      ]
    },
    {
      "cell_type": "markdown",
      "source": [
        "Training a larger model"
      ],
      "metadata": {
        "id": "hAxsx-nxTpcx"
      }
    },
    {
      "cell_type": "code",
      "source": [
        "def make_model(input_size=150, learning_rate = 0.01, size_inner=100, droprate=0.5):\n",
        "    base_model= Xception(\n",
        "    weights='imagenet',\n",
        "    include_top=False,\n",
        "    input_shape=(input_size,input_size,3)\n",
        "    )\n",
        "\n",
        "    base_model.trainable=False\n",
        "\n",
        "    ################################################\n",
        "    \n",
        "    inputs = keras.Input(shape=(input_size,input_size,3))\n",
        "    base = base_model(inputs, training= False)\n",
        "    vectors = keras.layers.GlobalAveragePooling2D()(base)\n",
        "    \n",
        "    inner = keras.layers.Dense(size_inner, activation='relu')(vectors)\n",
        "    \n",
        "    drop = keras.layers.Dropout(droprate)(inner)\n",
        "\n",
        "    outputs = keras.layers.Dense(10)(drop)\n",
        "\n",
        "    model= keras.Model(inputs, outputs)\n",
        "    \n",
        "    ################################################\n",
        "    \n",
        "    optimizer = keras.optimizers.Adam(learning_rate=learning_rate)\n",
        "    \n",
        "    loss = keras.losses.CategoricalCrossentropy(from_logits=True)\n",
        "    \n",
        "    model.compile(\n",
        "        optimizer=optimizer,\n",
        "        loss=loss,\n",
        "        metrics=['accuracy']\n",
        "    )\n",
        "    \n",
        "    return model"
      ],
      "metadata": {
        "id": "Zq9MrrdoTo3L"
      },
      "execution_count": 57,
      "outputs": []
    },
    {
      "cell_type": "code",
      "source": [
        "input_size=299"
      ],
      "metadata": {
        "id": "reICmGEraV4B"
      },
      "execution_count": 58,
      "outputs": []
    },
    {
      "cell_type": "code",
      "source": [
        "train_gen = ImageDataGenerator(\n",
        "    preprocessing_function=preprocess_input,\n",
        "    shear_range=10,\n",
        "    zoom_range=0.1,\n",
        "    horizontal_flip=True,   \n",
        ")\n",
        "\n",
        "train_ds = train_gen.flow_from_directory(\n",
        "    './clothing-dataset-small/train',\n",
        "    target_size=(input_size,input_size),\n",
        "    batch_size=32\n",
        ")\n",
        "\n",
        "val_gen = ImageDataGenerator(preprocessing_function=preprocess_input)\n",
        "\n",
        "val_ds = val_gen.flow_from_directory(\n",
        "    './clothing-dataset-small/validation/',\n",
        "    target_size=(input_size,input_size),\n",
        "    batch_size=32,\n",
        "    shuffle=False\n",
        ")"
      ],
      "metadata": {
        "colab": {
          "base_uri": "https://localhost:8080/"
        },
        "id": "fo9eeybNZBk6",
        "outputId": "d66f30d1-bb05-49c7-f806-83b5f109fca1"
      },
      "execution_count": 59,
      "outputs": [
        {
          "output_type": "stream",
          "name": "stdout",
          "text": [
            "Found 3068 images belonging to 10 classes.\n",
            "Found 341 images belonging to 10 classes.\n"
          ]
        }
      ]
    },
    {
      "cell_type": "code",
      "source": [
        "checkpoint = keras.callbacks.ModelCheckpoint(\n",
        "    'xception_v4_{epoch:02d}_{val_accuracy:.3f}.h5',\n",
        "    save_best_only=True,\n",
        "    monitor='val_accuracy',\n",
        "    mode='max'\n",
        ")"
      ],
      "metadata": {
        "id": "wBwtsnzXZpOS"
      },
      "execution_count": 60,
      "outputs": []
    },
    {
      "cell_type": "code",
      "source": [
        "learning_rate = 0.0005\n",
        "size=100\n",
        "droprate = 0.2\n",
        "\n",
        "model = make_model(\n",
        "    input_size=299,\n",
        "    learning_rate=learning_rate,\n",
        "    size_inner=size,\n",
        "    droprate=droprate\n",
        ")\n",
        "\n",
        "history = model.fit(train_ds, epochs=50, validation_data=val_ds,\n",
        "                    callbacks=[checkpoint])"
      ],
      "metadata": {
        "colab": {
          "base_uri": "https://localhost:8080/"
        },
        "id": "zZHz7EMOZgFi",
        "outputId": "e79f7273-78db-42be-9445-91e21d0d2f1b"
      },
      "execution_count": 61,
      "outputs": [
        {
          "output_type": "stream",
          "name": "stdout",
          "text": [
            "Epoch 1/50\n",
            "96/96 [==============================] - 75s 741ms/step - loss: 0.9630 - accuracy: 0.6943 - val_loss: 0.5311 - val_accuracy: 0.8358\n",
            "Epoch 2/50\n",
            "96/96 [==============================] - 68s 711ms/step - loss: 0.5117 - accuracy: 0.8282 - val_loss: 0.4520 - val_accuracy: 0.8358\n",
            "Epoch 3/50\n",
            "96/96 [==============================] - 69s 719ms/step - loss: 0.4250 - accuracy: 0.8579 - val_loss: 0.3926 - val_accuracy: 0.8563\n",
            "Epoch 4/50\n",
            "96/96 [==============================] - 70s 724ms/step - loss: 0.3739 - accuracy: 0.8735 - val_loss: 0.3867 - val_accuracy: 0.8680\n",
            "Epoch 5/50\n",
            "96/96 [==============================] - 70s 722ms/step - loss: 0.3416 - accuracy: 0.8853 - val_loss: 0.3717 - val_accuracy: 0.8651\n",
            "Epoch 6/50\n",
            "96/96 [==============================] - 69s 715ms/step - loss: 0.3065 - accuracy: 0.8970 - val_loss: 0.3674 - val_accuracy: 0.8680\n",
            "Epoch 7/50\n",
            "96/96 [==============================] - 69s 715ms/step - loss: 0.2886 - accuracy: 0.9016 - val_loss: 0.3551 - val_accuracy: 0.8798\n",
            "Epoch 8/50\n",
            "96/96 [==============================] - 69s 715ms/step - loss: 0.2719 - accuracy: 0.9019 - val_loss: 0.3760 - val_accuracy: 0.8768\n",
            "Epoch 9/50\n",
            "96/96 [==============================] - 68s 708ms/step - loss: 0.2539 - accuracy: 0.9110 - val_loss: 0.3508 - val_accuracy: 0.8651\n",
            "Epoch 10/50\n",
            "96/96 [==============================] - 69s 715ms/step - loss: 0.2487 - accuracy: 0.9146 - val_loss: 0.3594 - val_accuracy: 0.8651\n",
            "Epoch 11/50\n",
            "96/96 [==============================] - 68s 707ms/step - loss: 0.2254 - accuracy: 0.9231 - val_loss: 0.3577 - val_accuracy: 0.8798\n",
            "Epoch 12/50\n",
            "96/96 [==============================] - 69s 719ms/step - loss: 0.2149 - accuracy: 0.9302 - val_loss: 0.3448 - val_accuracy: 0.8856\n",
            "Epoch 13/50\n",
            "96/96 [==============================] - 68s 709ms/step - loss: 0.1968 - accuracy: 0.9348 - val_loss: 0.3370 - val_accuracy: 0.9032\n",
            "Epoch 14/50\n",
            "96/96 [==============================] - 69s 717ms/step - loss: 0.1931 - accuracy: 0.9332 - val_loss: 0.3617 - val_accuracy: 0.8798\n",
            "Epoch 15/50\n",
            "96/96 [==============================] - 69s 715ms/step - loss: 0.1749 - accuracy: 0.9426 - val_loss: 0.3599 - val_accuracy: 0.8827\n",
            "Epoch 16/50\n",
            "96/96 [==============================] - 68s 706ms/step - loss: 0.1763 - accuracy: 0.9430 - val_loss: 0.3814 - val_accuracy: 0.8768\n",
            "Epoch 17/50\n",
            "96/96 [==============================] - 69s 714ms/step - loss: 0.1683 - accuracy: 0.9423 - val_loss: 0.3495 - val_accuracy: 0.8944\n",
            "Epoch 18/50\n",
            "96/96 [==============================] - 68s 706ms/step - loss: 0.1451 - accuracy: 0.9537 - val_loss: 0.3771 - val_accuracy: 0.8798\n",
            "Epoch 19/50\n",
            "96/96 [==============================] - 68s 712ms/step - loss: 0.1460 - accuracy: 0.9524 - val_loss: 0.3807 - val_accuracy: 0.8768\n",
            "Epoch 20/50\n",
            "96/96 [==============================] - 68s 706ms/step - loss: 0.1438 - accuracy: 0.9553 - val_loss: 0.3630 - val_accuracy: 0.8886\n",
            "Epoch 21/50\n",
            "96/96 [==============================] - 69s 714ms/step - loss: 0.1241 - accuracy: 0.9583 - val_loss: 0.4308 - val_accuracy: 0.8651\n",
            "Epoch 22/50\n",
            "96/96 [==============================] - 67s 701ms/step - loss: 0.1302 - accuracy: 0.9596 - val_loss: 0.3632 - val_accuracy: 0.8915\n",
            "Epoch 23/50\n",
            "96/96 [==============================] - 69s 713ms/step - loss: 0.1310 - accuracy: 0.9580 - val_loss: 0.3874 - val_accuracy: 0.8739\n",
            "Epoch 24/50\n",
            "96/96 [==============================] - 68s 706ms/step - loss: 0.1195 - accuracy: 0.9625 - val_loss: 0.3960 - val_accuracy: 0.8739\n",
            "Epoch 25/50\n",
            "96/96 [==============================] - 68s 711ms/step - loss: 0.1075 - accuracy: 0.9674 - val_loss: 0.4012 - val_accuracy: 0.8768\n",
            "Epoch 26/50\n",
            "96/96 [==============================] - 68s 704ms/step - loss: 0.1102 - accuracy: 0.9661 - val_loss: 0.4035 - val_accuracy: 0.8739\n",
            "Epoch 27/50\n",
            "96/96 [==============================] - 68s 712ms/step - loss: 0.0970 - accuracy: 0.9723 - val_loss: 0.3844 - val_accuracy: 0.8798\n",
            "Epoch 28/50\n",
            "96/96 [==============================] - 69s 715ms/step - loss: 0.1019 - accuracy: 0.9700 - val_loss: 0.3958 - val_accuracy: 0.8739\n",
            "Epoch 29/50\n",
            "96/96 [==============================] - 68s 705ms/step - loss: 0.0999 - accuracy: 0.9700 - val_loss: 0.4259 - val_accuracy: 0.8768\n",
            "Epoch 30/50\n",
            "96/96 [==============================] - 68s 712ms/step - loss: 0.0867 - accuracy: 0.9743 - val_loss: 0.4099 - val_accuracy: 0.8886\n",
            "Epoch 31/50\n",
            "96/96 [==============================] - 68s 707ms/step - loss: 0.0828 - accuracy: 0.9795 - val_loss: 0.4174 - val_accuracy: 0.8856\n",
            "Epoch 32/50\n",
            "96/96 [==============================] - 69s 714ms/step - loss: 0.0851 - accuracy: 0.9752 - val_loss: 0.4045 - val_accuracy: 0.8739\n",
            "Epoch 33/50\n",
            "96/96 [==============================] - 68s 704ms/step - loss: 0.0826 - accuracy: 0.9772 - val_loss: 0.4055 - val_accuracy: 0.8827\n",
            "Epoch 34/50\n",
            "96/96 [==============================] - 69s 714ms/step - loss: 0.0747 - accuracy: 0.9795 - val_loss: 0.4381 - val_accuracy: 0.8798\n",
            "Epoch 35/50\n",
            "96/96 [==============================] - 68s 705ms/step - loss: 0.0798 - accuracy: 0.9772 - val_loss: 0.4500 - val_accuracy: 0.8768\n",
            "Epoch 36/50\n",
            "96/96 [==============================] - 69s 716ms/step - loss: 0.0873 - accuracy: 0.9681 - val_loss: 0.4342 - val_accuracy: 0.8710\n",
            "Epoch 37/50\n",
            "96/96 [==============================] - 67s 701ms/step - loss: 0.0676 - accuracy: 0.9791 - val_loss: 0.4205 - val_accuracy: 0.8856\n",
            "Epoch 38/50\n",
            "96/96 [==============================] - 68s 711ms/step - loss: 0.0719 - accuracy: 0.9798 - val_loss: 0.4292 - val_accuracy: 0.8827\n",
            "Epoch 39/50\n",
            "96/96 [==============================] - 69s 714ms/step - loss: 0.0657 - accuracy: 0.9811 - val_loss: 0.4208 - val_accuracy: 0.8798\n",
            "Epoch 40/50\n",
            "96/96 [==============================] - 68s 706ms/step - loss: 0.0614 - accuracy: 0.9824 - val_loss: 0.4112 - val_accuracy: 0.8768\n",
            "Epoch 41/50\n",
            "96/96 [==============================] - 69s 716ms/step - loss: 0.0628 - accuracy: 0.9844 - val_loss: 0.4166 - val_accuracy: 0.8827\n",
            "Epoch 42/50\n",
            "96/96 [==============================] - 68s 704ms/step - loss: 0.0590 - accuracy: 0.9837 - val_loss: 0.4057 - val_accuracy: 0.8856\n",
            "Epoch 43/50\n",
            "96/96 [==============================] - 69s 713ms/step - loss: 0.0529 - accuracy: 0.9879 - val_loss: 0.4340 - val_accuracy: 0.8798\n",
            "Epoch 44/50\n",
            "96/96 [==============================] - 68s 706ms/step - loss: 0.0501 - accuracy: 0.9857 - val_loss: 0.4512 - val_accuracy: 0.8827\n",
            "Epoch 45/50\n",
            "96/96 [==============================] - 69s 717ms/step - loss: 0.0476 - accuracy: 0.9886 - val_loss: 0.4415 - val_accuracy: 0.8827\n",
            "Epoch 46/50\n",
            "96/96 [==============================] - 68s 704ms/step - loss: 0.0514 - accuracy: 0.9860 - val_loss: 0.4553 - val_accuracy: 0.8827\n",
            "Epoch 47/50\n",
            "96/96 [==============================] - 69s 714ms/step - loss: 0.0447 - accuracy: 0.9902 - val_loss: 0.4252 - val_accuracy: 0.8915\n",
            "Epoch 48/50\n",
            "96/96 [==============================] - 68s 706ms/step - loss: 0.0467 - accuracy: 0.9863 - val_loss: 0.4699 - val_accuracy: 0.8827\n",
            "Epoch 49/50\n",
            "96/96 [==============================] - 69s 715ms/step - loss: 0.0420 - accuracy: 0.9909 - val_loss: 0.4851 - val_accuracy: 0.8739\n",
            "Epoch 50/50\n",
            "96/96 [==============================] - 68s 707ms/step - loss: 0.0410 - accuracy: 0.9909 - val_loss: 0.4564 - val_accuracy: 0.8768\n"
          ]
        }
      ]
    },
    {
      "cell_type": "code",
      "source": [
        "!ls"
      ],
      "metadata": {
        "colab": {
          "base_uri": "https://localhost:8080/"
        },
        "id": "gGXyGx1fcFsi",
        "outputId": "cc883d44-be6a-43ed-d164-4c269162a03d"
      },
      "execution_count": 62,
      "outputs": [
        {
          "output_type": "stream",
          "name": "stdout",
          "text": [
            "clothing-dataset-small\t xception_v1_03_0.809.h5  xception_v4_04_0.868.h5\n",
            "model_v1.h5\t\t xception_v1_08_0.827.h5  xception_v4_07_0.880.h5\n",
            "sample_data\t\t xception_v4_01_0.836.h5  xception_v4_12_0.886.h5\n",
            "xception_v1_01_0.795.h5  xception_v4_03_0.856.h5  xception_v4_13_0.903.h5\n"
          ]
        }
      ]
    },
    {
      "cell_type": "markdown",
      "source": [
        "Using the model"
      ],
      "metadata": {
        "id": "XwbFdtOfGXB5"
      }
    },
    {
      "cell_type": "code",
      "source": [
        "import tensorflow as tf\n",
        "from tensorflow import keras"
      ],
      "metadata": {
        "id": "7Vmaa9K3cG73"
      },
      "execution_count": 63,
      "outputs": []
    },
    {
      "cell_type": "code",
      "source": [
        "model = keras.models.load_model('xception_v4_13_0.903.h5')"
      ],
      "metadata": {
        "id": "EpjWWFz3Gpl-"
      },
      "execution_count": 65,
      "outputs": []
    },
    {
      "cell_type": "code",
      "source": [
        "from tensorflow.keras.preprocessing.image import ImageDataGenerator\n",
        "from tensorflow.keras.preprocessing.image import load_img\n",
        "from tensorflow.keras.applications.xception import preprocess_input"
      ],
      "metadata": {
        "id": "L9wYi98ZHXlZ"
      },
      "execution_count": 67,
      "outputs": []
    },
    {
      "cell_type": "code",
      "source": [
        "test_gen=ImageDataGenerator(preprocessing_function=preprocess_input)\n",
        "\n",
        "test_ds = test_gen.flow_from_directory(\n",
        "    './clothing-dataset-small/validation',\n",
        "    target_size=(299,299),\n",
        "    batch_size=32,\n",
        "    shuffle=False\n",
        ")"
      ],
      "metadata": {
        "colab": {
          "base_uri": "https://localhost:8080/"
        },
        "id": "KcSpxf-RG1wX",
        "outputId": "6ee43912-6098-461e-c25e-3d6840cd974f"
      },
      "execution_count": 70,
      "outputs": [
        {
          "output_type": "stream",
          "name": "stdout",
          "text": [
            "Found 341 images belonging to 10 classes.\n"
          ]
        }
      ]
    },
    {
      "cell_type": "code",
      "source": [
        "model.evaluate(test_ds)"
      ],
      "metadata": {
        "colab": {
          "base_uri": "https://localhost:8080/"
        },
        "id": "ljpdqslWPAN8",
        "outputId": "dbad88c6-03e6-4a11-e33d-5d8faf8ac983"
      },
      "execution_count": 71,
      "outputs": [
        {
          "output_type": "stream",
          "name": "stdout",
          "text": [
            "11/11 [==============================] - 3s 220ms/step - loss: 0.3370 - accuracy: 0.9032\n"
          ]
        },
        {
          "output_type": "execute_result",
          "data": {
            "text/plain": [
              "[0.33700233697891235, 0.9032257795333862]"
            ]
          },
          "metadata": {},
          "execution_count": 71
        }
      ]
    },
    {
      "cell_type": "code",
      "source": [
        "path = 'clothing-dataset-small/test/pants/c8d21106-bbdb-4e8d-83e4-bf3d14e54c16.jpg'"
      ],
      "metadata": {
        "id": "3qjpwY2uPXHI"
      },
      "execution_count": 72,
      "outputs": []
    },
    {
      "cell_type": "code",
      "source": [
        "img = load_img(path, target_size=(299,299))"
      ],
      "metadata": {
        "id": "pWHo03jFQENs"
      },
      "execution_count": 75,
      "outputs": []
    },
    {
      "cell_type": "code",
      "source": [
        "import numpy as np"
      ],
      "metadata": {
        "id": "WnrGKaqiQHqU"
      },
      "execution_count": 76,
      "outputs": []
    },
    {
      "cell_type": "code",
      "source": [
        "x = np.array(img)\n",
        "x = np.array([x])\n",
        "x.shape"
      ],
      "metadata": {
        "colab": {
          "base_uri": "https://localhost:8080/"
        },
        "id": "i30TZLx_QQzi",
        "outputId": "635c41ae-f190-4dbe-bbf0-cd4125c87fe0"
      },
      "execution_count": 77,
      "outputs": [
        {
          "output_type": "execute_result",
          "data": {
            "text/plain": [
              "(1, 299, 299, 3)"
            ]
          },
          "metadata": {},
          "execution_count": 77
        }
      ]
    },
    {
      "cell_type": "code",
      "source": [
        "x = preprocess_input(x)"
      ],
      "metadata": {
        "id": "inUV4DwHQczm"
      },
      "execution_count": 78,
      "outputs": []
    },
    {
      "cell_type": "code",
      "source": [
        "pred = model.predict(x)"
      ],
      "metadata": {
        "colab": {
          "base_uri": "https://localhost:8080/"
        },
        "id": "AuNTo7IZQlbc",
        "outputId": "cb1b88bb-3146-4e76-8b33-ec51f5ca4428"
      },
      "execution_count": 79,
      "outputs": [
        {
          "output_type": "stream",
          "name": "stdout",
          "text": [
            "1/1 [==============================] - 1s 687ms/step\n"
          ]
        }
      ]
    },
    {
      "cell_type": "code",
      "source": [
        "classes = [\n",
        "    'dress',\n",
        "    'hat',\n",
        "    'longsleeve',\n",
        "    'outwear',\n",
        "    'pants',\n",
        "    'shirt',\n",
        "    'shoes',\n",
        "    'shorts',\n",
        "    'skirt',\n",
        "    't-shirt'\n",
        "    ]"
      ],
      "metadata": {
        "id": "qBhgFyUzQ1nU"
      },
      "execution_count": 80,
      "outputs": []
    },
    {
      "cell_type": "code",
      "source": [
        "dict(zip(classes, pred[0]))"
      ],
      "metadata": {
        "colab": {
          "base_uri": "https://localhost:8080/"
        },
        "id": "QdvLHkJrRWBU",
        "outputId": "c45a0193-69b3-414a-9524-23c99a422fd5"
      },
      "execution_count": 81,
      "outputs": [
        {
          "output_type": "execute_result",
          "data": {
            "text/plain": [
              "{'dress': -1.5444033,\n",
              " 'hat': -4.3115344,\n",
              " 'longsleeve': -0.406875,\n",
              " 'outwear': -1.4331968,\n",
              " 'pants': 11.058019,\n",
              " 'shirt': -1.2927328,\n",
              " 'shoes': -2.491163,\n",
              " 'shorts': 5.661776,\n",
              " 'skirt': -4.1808977,\n",
              " 't-shirt': -0.3928153}"
            ]
          },
          "metadata": {},
          "execution_count": 81
        }
      ]
    }
  ]
}